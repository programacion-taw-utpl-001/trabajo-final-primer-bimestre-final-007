{
 "cells": [
  {
   "cell_type": "markdown",
   "metadata": {},
   "source": [
    "## Proyecto de Visualización de Datos"
   ]
  },
  {
   "cell_type": "markdown",
   "metadata": {},
   "source": [
    "### Set de Datos"
   ]
  },
  {
   "cell_type": "markdown",
   "metadata": {},
   "source": [
    "<p>Los datos que vamos a representar son del sitio web Ecuador en cifras **(INEC)**, sobre los divorcios en Ecuador.</p>\n",
    "<p>Para proceder a realizar la respectiva importación de set de datos utilizaremos la libreria de pandas **(python)**.</p>\n",
    "<p>A continuacion procederemos a importarla:</p>\n",
    "\n"
   ]
  },
  {
   "cell_type": "code",
   "execution_count": 1,
   "metadata": {},
   "outputs": [],
   "source": [
    "import pandas as pd #->importamos la libreria pandas"
   ]
  },
  {
   "cell_type": "markdown",
   "metadata": {},
   "source": [
    "<p>El Set de datos a utilizar está en formato **.csv**, por lo tanto se utilizara el metodo de la libreria pandas **read_csv**.</p>\n"
   ]
  },
  {
   "cell_type": "code",
   "execution_count": 2,
   "metadata": {},
   "outputs": [],
   "source": [
    "datos_csv=pd.read_csv('Datos/divorcios.csv',sep=';',engine = 'python') \n",
    "#->El set de datos se almacenara en la variable datos_csv y a continuacion el metodo read_csv de pandas\n",
    "#->Seguidamente de la ruta del set de datos y su delimitador (;)"
   ]
  },
  {
   "cell_type": "code",
   "execution_count": 3,
   "metadata": {},
   "outputs": [
    {
     "data": {
      "text/html": [
       "<div>\n",
       "<style scoped>\n",
       "    .dataframe tbody tr th:only-of-type {\n",
       "        vertical-align: middle;\n",
       "    }\n",
       "\n",
       "    .dataframe tbody tr th {\n",
       "        vertical-align: top;\n",
       "    }\n",
       "\n",
       "    .dataframe thead th {\n",
       "        text-align: right;\n",
       "    }\n",
       "</style>\n",
       "<table border=\"1\" class=\"dataframe\">\n",
       "  <thead>\n",
       "    <tr style=\"text-align: right;\">\n",
       "      <th></th>\n",
       "      <th>﻿ofi_insc</th>\n",
       "      <th>prov_insc</th>\n",
       "      <th>cant_insc</th>\n",
       "      <th>parr_insc</th>\n",
       "      <th>anio_insc</th>\n",
       "      <th>mes_insc</th>\n",
       "      <th>dia_insc</th>\n",
       "      <th>fecha_insc</th>\n",
       "      <th>anio_div</th>\n",
       "      <th>mes_div</th>\n",
       "      <th>...</th>\n",
       "      <th>fecha_nacm</th>\n",
       "      <th>edad_muj</th>\n",
       "      <th>hijos_muj</th>\n",
       "      <th>p_etnica_muj</th>\n",
       "      <th>sabe_leerm</th>\n",
       "      <th>niv_instm</th>\n",
       "      <th>prov_habm</th>\n",
       "      <th>cant_habm</th>\n",
       "      <th>parr_habm</th>\n",
       "      <th>area_muj</th>\n",
       "    </tr>\n",
       "  </thead>\n",
       "  <tbody>\n",
       "    <tr>\n",
       "      <th>0</th>\n",
       "      <td>1</td>\n",
       "      <td>Bolivar</td>\n",
       "      <td>Guaranda</td>\n",
       "      <td>Angel Polibio Chaves</td>\n",
       "      <td>2016</td>\n",
       "      <td>Febrero</td>\n",
       "      <td>10</td>\n",
       "      <td>02/10/2016</td>\n",
       "      <td>2016</td>\n",
       "      <td>Enero</td>\n",
       "      <td>...</td>\n",
       "      <td>9/15/1966</td>\n",
       "      <td>49</td>\n",
       "      <td>0</td>\n",
       "      <td>Mestiza</td>\n",
       "      <td>Si</td>\n",
       "      <td>Superior</td>\n",
       "      <td>Bolivar</td>\n",
       "      <td>Las Naves</td>\n",
       "      <td>Las Naves, cabecera cantonal</td>\n",
       "      <td>Urbana</td>\n",
       "    </tr>\n",
       "    <tr>\n",
       "      <th>1</th>\n",
       "      <td>1</td>\n",
       "      <td>Azuay</td>\n",
       "      <td>Cuenca</td>\n",
       "      <td>San Blas</td>\n",
       "      <td>2016</td>\n",
       "      <td>Julio</td>\n",
       "      <td>22</td>\n",
       "      <td>7/22/2016</td>\n",
       "      <td>2010</td>\n",
       "      <td>Enero</td>\n",
       "      <td>...</td>\n",
       "      <td>07/06/1980</td>\n",
       "      <td>36</td>\n",
       "      <td>1</td>\n",
       "      <td>Blanca</td>\n",
       "      <td>Si</td>\n",
       "      <td>Se ignora</td>\n",
       "      <td>Exterior</td>\n",
       "      <td>Exterior</td>\n",
       "      <td>Exterior</td>\n",
       "      <td>Urbana</td>\n",
       "    </tr>\n",
       "    <tr>\n",
       "      <th>2</th>\n",
       "      <td>1</td>\n",
       "      <td>Guayas</td>\n",
       "      <td>Guayaquil</td>\n",
       "      <td>Rocafuerte</td>\n",
       "      <td>2016</td>\n",
       "      <td>Marzo</td>\n",
       "      <td>4</td>\n",
       "      <td>03/04/2016</td>\n",
       "      <td>2016</td>\n",
       "      <td>Enero</td>\n",
       "      <td>...</td>\n",
       "      <td>11/18/1973</td>\n",
       "      <td>42</td>\n",
       "      <td>0</td>\n",
       "      <td>Mestiza</td>\n",
       "      <td>Si</td>\n",
       "      <td>Se ignora</td>\n",
       "      <td>Guayas</td>\n",
       "      <td>Guayaquil</td>\n",
       "      <td>Guayaquil, cabecera cantonal y capital provincial</td>\n",
       "      <td>Urbana</td>\n",
       "    </tr>\n",
       "    <tr>\n",
       "      <th>3</th>\n",
       "      <td>1</td>\n",
       "      <td>Guayas</td>\n",
       "      <td>Guayaquil</td>\n",
       "      <td>Rocafuerte</td>\n",
       "      <td>2016</td>\n",
       "      <td>Marzo</td>\n",
       "      <td>10</td>\n",
       "      <td>03/10/2016</td>\n",
       "      <td>2016</td>\n",
       "      <td>Enero</td>\n",
       "      <td>...</td>\n",
       "      <td>07/12/1984</td>\n",
       "      <td>31</td>\n",
       "      <td>0</td>\n",
       "      <td>Mestiza</td>\n",
       "      <td>Si</td>\n",
       "      <td>Secundaria</td>\n",
       "      <td>Guayas</td>\n",
       "      <td>Guayaquil</td>\n",
       "      <td>Guayaquil, cabecera cantonal y capital provincial</td>\n",
       "      <td>Urbana</td>\n",
       "    </tr>\n",
       "    <tr>\n",
       "      <th>4</th>\n",
       "      <td>1</td>\n",
       "      <td>Imbabura</td>\n",
       "      <td>Ibarra</td>\n",
       "      <td>San Francisco</td>\n",
       "      <td>2016</td>\n",
       "      <td>Febrero</td>\n",
       "      <td>15</td>\n",
       "      <td>2/15/2016</td>\n",
       "      <td>2016</td>\n",
       "      <td>Enero</td>\n",
       "      <td>...</td>\n",
       "      <td>04/09/1968</td>\n",
       "      <td>47</td>\n",
       "      <td>1</td>\n",
       "      <td>Otra</td>\n",
       "      <td>Si</td>\n",
       "      <td>Secundaria</td>\n",
       "      <td>Imbabura</td>\n",
       "      <td>Cotacachi</td>\n",
       "      <td>San Francisco</td>\n",
       "      <td>Urbana</td>\n",
       "    </tr>\n",
       "  </tbody>\n",
       "</table>\n",
       "<p>5 rows × 49 columns</p>\n",
       "</div>"
      ],
      "text/plain": [
       "   ﻿ofi_insc prov_insc  cant_insc             parr_insc  anio_insc mes_insc  \\\n",
       "0          1   Bolivar   Guaranda  Angel Polibio Chaves       2016  Febrero   \n",
       "1          1     Azuay     Cuenca              San Blas       2016    Julio   \n",
       "2          1    Guayas  Guayaquil            Rocafuerte       2016    Marzo   \n",
       "3          1    Guayas  Guayaquil            Rocafuerte       2016    Marzo   \n",
       "4          1  Imbabura     Ibarra         San Francisco       2016  Febrero   \n",
       "\n",
       "   dia_insc  fecha_insc  anio_div mes_div   ...     fecha_nacm edad_muj  \\\n",
       "0        10  02/10/2016      2016   Enero   ...      9/15/1966       49   \n",
       "1        22   7/22/2016      2010   Enero   ...     07/06/1980       36   \n",
       "2         4  03/04/2016      2016   Enero   ...     11/18/1973       42   \n",
       "3        10  03/10/2016      2016   Enero   ...     07/12/1984       31   \n",
       "4        15   2/15/2016      2016   Enero   ...     04/09/1968       47   \n",
       "\n",
       "   hijos_muj p_etnica_muj  sabe_leerm   niv_instm prov_habm  cant_habm  \\\n",
       "0          0      Mestiza          Si    Superior   Bolivar  Las Naves   \n",
       "1          1       Blanca          Si   Se ignora  Exterior   Exterior   \n",
       "2          0      Mestiza          Si   Se ignora    Guayas  Guayaquil   \n",
       "3          0      Mestiza          Si  Secundaria    Guayas  Guayaquil   \n",
       "4          1         Otra          Si  Secundaria  Imbabura  Cotacachi   \n",
       "\n",
       "                                           parr_habm area_muj  \n",
       "0                       Las Naves, cabecera cantonal   Urbana  \n",
       "1                                           Exterior   Urbana  \n",
       "2  Guayaquil, cabecera cantonal y capital provincial   Urbana  \n",
       "3  Guayaquil, cabecera cantonal y capital provincial   Urbana  \n",
       "4                                      San Francisco   Urbana  \n",
       "\n",
       "[5 rows x 49 columns]"
      ]
     },
     "execution_count": 3,
     "metadata": {},
     "output_type": "execute_result"
    }
   ],
   "source": [
    "datos_csv.head()#->La funcion head() de pandas nos permite presentar las 5 primeras filas de nuestro set de datos. "
   ]
  },
  {
   "cell_type": "code",
   "execution_count": 4,
   "metadata": {},
   "outputs": [
    {
     "data": {
      "text/plain": [
       "Index([u'﻿ofi_insc', u'prov_insc', u'cant_insc', u'parr_insc', u'anio_insc',\n",
       "       u'mes_insc', u'dia_insc', u'fecha_insc', u'anio_div', u'mes_div',\n",
       "       u'dia_div', u'fecha_div', u'anio_mat', u'mes_mat', u'dia_mat',\n",
       "       u'fecha_mat', u'mcapbie', u'dur_mat', u'cau_div', u'nac_hom',\n",
       "       u'cod_paish', u'anio_nach', u'mes_nach', u'dia_nach', u'fecha_nach',\n",
       "       u'edad_hom', u'hijos_hom', u'p_etnica_hom', u'sabe_leerh', u'niv_insth',\n",
       "       u'prov_habh', u'cant_habh', u'parr_habh', u'area_hom', u'nac_muj',\n",
       "       u'cod_paism', u'anio_nacm', u'mes_nacm', u'dia_nacm', u'fecha_nacm',\n",
       "       u'edad_muj', u'hijos_muj', u'p_etnica_muj', u'sabe_leerm', u'niv_instm',\n",
       "       u'prov_habm', u'cant_habm', u'parr_habm', u'area_muj'],\n",
       "      dtype='object')"
      ]
     },
     "execution_count": 4,
     "metadata": {},
     "output_type": "execute_result"
    }
   ],
   "source": [
    "datos_csv.columns"
   ]
  },
  {
   "cell_type": "markdown",
   "metadata": {},
   "source": [
    "<p>_La funcion columns nos muestra el index de columnas que contiene nuestro set de datos_</p>"
   ]
  },
  {
   "cell_type": "markdown",
   "metadata": {},
   "source": [
    "## ¿Qué es el Divorcio?\n",
    "<p>_Disolución legal de un matrimonio, a solicitud de uno o de los dos cónyuges, cuando se dan las causas previstas por la ley._</p>"
   ]
  },
  {
   "cell_type": "markdown",
   "metadata": {},
   "source": [
    "### Marco Teórico\n",
    "<p>El presente trabajo de visualizacion de datos se desarrollara con 3 librerias de python, que nos permitira extraer informacion de un set de datos y realizar sus respectivas visualizaciones en gráficos estadísticos.</p>\n",
    "\n",
    "#### Python\n",
    "<p>Python es un lenguaje de programación interpretado cuya filosofía hace hincapié en una sintaxis que favorezca un código legible.\n",
    "\n",
    "Se trata de un lenguaje de programación multiparadigma, ya que soporta orientación a objetos, programación imperativa y, en menor medida, programación funcional. Es un lenguaje interpretado, usa tipado dinámico y es multiplataforma.</p>\n",
    "\n",
    "#### Pandas\n",
    "<p>Es una librería de **código abierto** con licencia de **BSD** que proporciona estructuras de datos y herramientas de análisis de datos de alto rendimiento y fácil de usar para el lenguaje de programación **Python** .</p>\n",
    "\n",
    "#### Bokeh\n",
    "<p>Es una librería de visualización interactiva de **Python** que se dirige a **Navegadores web modernos** para su presentación. Su objetivo es proporcionar una construcción elegante y concisa de gráficos novedosos.</p>\n",
    "\n",
    "#### Otras Herramientas que se hayan utilizado\n",
    "###### Jupyter Notebook\n",
    "<p>Es una aplicación web de **código abierto** que le permite crear y compartir documentos que contengan códigos, ecuaciones, visualizaciones y textos narrativos en vivo. Los usos incluyen: limpieza y transformación de datos, simulación numérica, modelado estadístico, visualización de datos, aprendizaje automático y mucho más.</p>"
   ]
  },
  {
   "cell_type": "markdown",
   "metadata": {},
   "source": [
    "### Propuesta de Visualización\n",
    "<p>Para realizar la propuesta de visualización:</p>\n",
    "\n",
    "1. Importaremos la libreria **bokeh**.\n",
    "\n",
    "2. Se hara uso de sus diferentes paquetes disponibles en la librería.\n",
    "\n",
    "<p>Graficas a Utilizar</p>\n",
    "\n",
    "- Barras\n",
    "- Lineas\n",
    "\n",
    "\n",
    "###### Describir la propuesta\n",
    "<p>Se representara el indice de divorcios en el Ecuador y en algunas provincias,como se a ido aumentando en los ultimos años. Segun los datos obtenidos del **Instituto Nacional de Estadisticas y Censos del Ecuador (INEC)**</p>\n",
    "\n",
    "###### Presentar y explicar las visualizaciones\n",
    "<p>A continuacion realizaremos la importacion de todos los paquetes necesarios de la libreía **bokeh** para la representacion visual de los datos</p>\n"
   ]
  },
  {
   "cell_type": "code",
   "execution_count": 5,
   "metadata": {},
   "outputs": [
    {
     "data": {
      "text/html": [
       "\n",
       "    <div class=\"bk-root\">\n",
       "        <a href=\"https://bokeh.pydata.org\" target=\"_blank\" class=\"bk-logo bk-logo-small bk-logo-notebook\"></a>\n",
       "        <span id=\"3c496472-0f4c-4b6d-97a2-16c9186b4bad\">Loading BokehJS ...</span>\n",
       "    </div>"
      ]
     },
     "metadata": {},
     "output_type": "display_data"
    },
    {
     "data": {
      "application/javascript": [
       "\n",
       "(function(root) {\n",
       "  function now() {\n",
       "    return new Date();\n",
       "  }\n",
       "\n",
       "  var force = true;\n",
       "\n",
       "  if (typeof (root._bokeh_onload_callbacks) === \"undefined\" || force === true) {\n",
       "    root._bokeh_onload_callbacks = [];\n",
       "    root._bokeh_is_loading = undefined;\n",
       "  }\n",
       "\n",
       "  var JS_MIME_TYPE = 'application/javascript';\n",
       "  var HTML_MIME_TYPE = 'text/html';\n",
       "  var EXEC_MIME_TYPE = 'application/vnd.bokehjs_exec.v0+json';\n",
       "  var CLASS_NAME = 'output_bokeh rendered_html';\n",
       "\n",
       "  /**\n",
       "   * Render data to the DOM node\n",
       "   */\n",
       "  function render(props, node) {\n",
       "    var script = document.createElement(\"script\");\n",
       "    node.appendChild(script);\n",
       "  }\n",
       "\n",
       "  /**\n",
       "   * Handle when an output is cleared or removed\n",
       "   */\n",
       "  function handleClearOutput(event, handle) {\n",
       "    var cell = handle.cell;\n",
       "\n",
       "    var id = cell.output_area._bokeh_element_id;\n",
       "    var server_id = cell.output_area._bokeh_server_id;\n",
       "    // Clean up Bokeh references\n",
       "    if (id !== undefined) {\n",
       "      Bokeh.index[id].model.document.clear();\n",
       "      delete Bokeh.index[id];\n",
       "    }\n",
       "\n",
       "    if (server_id !== undefined) {\n",
       "      // Clean up Bokeh references\n",
       "      var cmd = \"from bokeh.io.state import curstate; print(curstate().uuid_to_server['\" + server_id + \"'].get_sessions()[0].document.roots[0]._id)\";\n",
       "      cell.notebook.kernel.execute(cmd, {\n",
       "        iopub: {\n",
       "          output: function(msg) {\n",
       "            var element_id = msg.content.text.trim();\n",
       "            Bokeh.index[element_id].model.document.clear();\n",
       "            delete Bokeh.index[element_id];\n",
       "          }\n",
       "        }\n",
       "      });\n",
       "      // Destroy server and session\n",
       "      var cmd = \"import bokeh.io.notebook as ion; ion.destroy_server('\" + server_id + \"')\";\n",
       "      cell.notebook.kernel.execute(cmd);\n",
       "    }\n",
       "  }\n",
       "\n",
       "  /**\n",
       "   * Handle when a new output is added\n",
       "   */\n",
       "  function handleAddOutput(event, handle) {\n",
       "    var output_area = handle.output_area;\n",
       "    var output = handle.output;\n",
       "\n",
       "    // limit handleAddOutput to display_data with EXEC_MIME_TYPE content only\n",
       "    if ((output.output_type != \"display_data\") || (!output.data.hasOwnProperty(EXEC_MIME_TYPE))) {\n",
       "      return\n",
       "    }\n",
       "\n",
       "    var toinsert = output_area.element.find(`.${CLASS_NAME.split(' ')[0]}`);\n",
       "\n",
       "    if (output.metadata[EXEC_MIME_TYPE][\"id\"] !== undefined) {\n",
       "      toinsert[0].firstChild.textContent = output.data[JS_MIME_TYPE];\n",
       "      // store reference to embed id on output_area\n",
       "      output_area._bokeh_element_id = output.metadata[EXEC_MIME_TYPE][\"id\"];\n",
       "    }\n",
       "    if (output.metadata[EXEC_MIME_TYPE][\"server_id\"] !== undefined) {\n",
       "      var bk_div = document.createElement(\"div\");\n",
       "      bk_div.innerHTML = output.data[HTML_MIME_TYPE];\n",
       "      var script_attrs = bk_div.children[0].attributes;\n",
       "      for (var i = 0; i < script_attrs.length; i++) {\n",
       "        toinsert[0].firstChild.setAttribute(script_attrs[i].name, script_attrs[i].value);\n",
       "      }\n",
       "      // store reference to server id on output_area\n",
       "      output_area._bokeh_server_id = output.metadata[EXEC_MIME_TYPE][\"server_id\"];\n",
       "    }\n",
       "  }\n",
       "\n",
       "  function register_renderer(events, OutputArea) {\n",
       "\n",
       "    function append_mime(data, metadata, element) {\n",
       "      // create a DOM node to render to\n",
       "      var toinsert = this.create_output_subarea(\n",
       "        metadata,\n",
       "        CLASS_NAME,\n",
       "        EXEC_MIME_TYPE\n",
       "      );\n",
       "      this.keyboard_manager.register_events(toinsert);\n",
       "      // Render to node\n",
       "      var props = {data: data, metadata: metadata[EXEC_MIME_TYPE]};\n",
       "      render(props, toinsert[0]);\n",
       "      element.append(toinsert);\n",
       "      return toinsert\n",
       "    }\n",
       "\n",
       "    /* Handle when an output is cleared or removed */\n",
       "    events.on('clear_output.CodeCell', handleClearOutput);\n",
       "    events.on('delete.Cell', handleClearOutput);\n",
       "\n",
       "    /* Handle when a new output is added */\n",
       "    events.on('output_added.OutputArea', handleAddOutput);\n",
       "\n",
       "    /**\n",
       "     * Register the mime type and append_mime function with output_area\n",
       "     */\n",
       "    OutputArea.prototype.register_mime_type(EXEC_MIME_TYPE, append_mime, {\n",
       "      /* Is output safe? */\n",
       "      safe: true,\n",
       "      /* Index of renderer in `output_area.display_order` */\n",
       "      index: 0\n",
       "    });\n",
       "  }\n",
       "\n",
       "  // register the mime type if in Jupyter Notebook environment and previously unregistered\n",
       "  if (root.Jupyter !== undefined) {\n",
       "    var events = require('base/js/events');\n",
       "    var OutputArea = require('notebook/js/outputarea').OutputArea;\n",
       "\n",
       "    if (OutputArea.prototype.mime_types().indexOf(EXEC_MIME_TYPE) == -1) {\n",
       "      register_renderer(events, OutputArea);\n",
       "    }\n",
       "  }\n",
       "\n",
       "  \n",
       "  if (typeof (root._bokeh_timeout) === \"undefined\" || force === true) {\n",
       "    root._bokeh_timeout = Date.now() + 5000;\n",
       "    root._bokeh_failed_load = false;\n",
       "  }\n",
       "\n",
       "  var NB_LOAD_WARNING = {'data': {'text/html':\n",
       "     \"<div style='background-color: #fdd'>\\n\"+\n",
       "     \"<p>\\n\"+\n",
       "     \"BokehJS does not appear to have successfully loaded. If loading BokehJS from CDN, this \\n\"+\n",
       "     \"may be due to a slow or bad network connection. Possible fixes:\\n\"+\n",
       "     \"</p>\\n\"+\n",
       "     \"<ul>\\n\"+\n",
       "     \"<li>re-rerun `output_notebook()` to attempt to load from CDN again, or</li>\\n\"+\n",
       "     \"<li>use INLINE resources instead, as so:</li>\\n\"+\n",
       "     \"</ul>\\n\"+\n",
       "     \"<code>\\n\"+\n",
       "     \"from bokeh.resources import INLINE\\n\"+\n",
       "     \"output_notebook(resources=INLINE)\\n\"+\n",
       "     \"</code>\\n\"+\n",
       "     \"</div>\"}};\n",
       "\n",
       "  function display_loaded() {\n",
       "    var el = document.getElementById(\"3c496472-0f4c-4b6d-97a2-16c9186b4bad\");\n",
       "    if (el != null) {\n",
       "      el.textContent = \"BokehJS is loading...\";\n",
       "    }\n",
       "    if (root.Bokeh !== undefined) {\n",
       "      if (el != null) {\n",
       "        el.textContent = \"BokehJS \" + root.Bokeh.version + \" successfully loaded.\";\n",
       "      }\n",
       "    } else if (Date.now() < root._bokeh_timeout) {\n",
       "      setTimeout(display_loaded, 100)\n",
       "    }\n",
       "  }\n",
       "\n",
       "\n",
       "  function run_callbacks() {\n",
       "    try {\n",
       "      root._bokeh_onload_callbacks.forEach(function(callback) { callback() });\n",
       "    }\n",
       "    finally {\n",
       "      delete root._bokeh_onload_callbacks\n",
       "    }\n",
       "    console.info(\"Bokeh: all callbacks have finished\");\n",
       "  }\n",
       "\n",
       "  function load_libs(js_urls, callback) {\n",
       "    root._bokeh_onload_callbacks.push(callback);\n",
       "    if (root._bokeh_is_loading > 0) {\n",
       "      console.log(\"Bokeh: BokehJS is being loaded, scheduling callback at\", now());\n",
       "      return null;\n",
       "    }\n",
       "    if (js_urls == null || js_urls.length === 0) {\n",
       "      run_callbacks();\n",
       "      return null;\n",
       "    }\n",
       "    console.log(\"Bokeh: BokehJS not loaded, scheduling load and callback at\", now());\n",
       "    root._bokeh_is_loading = js_urls.length;\n",
       "    for (var i = 0; i < js_urls.length; i++) {\n",
       "      var url = js_urls[i];\n",
       "      var s = document.createElement('script');\n",
       "      s.src = url;\n",
       "      s.async = false;\n",
       "      s.onreadystatechange = s.onload = function() {\n",
       "        root._bokeh_is_loading--;\n",
       "        if (root._bokeh_is_loading === 0) {\n",
       "          console.log(\"Bokeh: all BokehJS libraries loaded\");\n",
       "          run_callbacks()\n",
       "        }\n",
       "      };\n",
       "      s.onerror = function() {\n",
       "        console.warn(\"failed to load library \" + url);\n",
       "      };\n",
       "      console.log(\"Bokeh: injecting script tag for BokehJS library: \", url);\n",
       "      document.getElementsByTagName(\"head\")[0].appendChild(s);\n",
       "    }\n",
       "  };var element = document.getElementById(\"3c496472-0f4c-4b6d-97a2-16c9186b4bad\");\n",
       "  if (element == null) {\n",
       "    console.log(\"Bokeh: ERROR: autoload.js configured with elementid '3c496472-0f4c-4b6d-97a2-16c9186b4bad' but no matching script tag was found. \")\n",
       "    return false;\n",
       "  }\n",
       "\n",
       "  var js_urls = [\"https://cdn.pydata.org/bokeh/release/bokeh-0.12.10.min.js\", \"https://cdn.pydata.org/bokeh/release/bokeh-widgets-0.12.10.min.js\", \"https://cdn.pydata.org/bokeh/release/bokeh-tables-0.12.10.min.js\", \"https://cdn.pydata.org/bokeh/release/bokeh-gl-0.12.10.min.js\"];\n",
       "\n",
       "  var inline_js = [\n",
       "    function(Bokeh) {\n",
       "      Bokeh.set_log_level(\"info\");\n",
       "    },\n",
       "    \n",
       "    function(Bokeh) {\n",
       "      \n",
       "    },\n",
       "    function(Bokeh) {\n",
       "      console.log(\"Bokeh: injecting CSS: https://cdn.pydata.org/bokeh/release/bokeh-0.12.10.min.css\");\n",
       "      Bokeh.embed.inject_css(\"https://cdn.pydata.org/bokeh/release/bokeh-0.12.10.min.css\");\n",
       "      console.log(\"Bokeh: injecting CSS: https://cdn.pydata.org/bokeh/release/bokeh-widgets-0.12.10.min.css\");\n",
       "      Bokeh.embed.inject_css(\"https://cdn.pydata.org/bokeh/release/bokeh-widgets-0.12.10.min.css\");\n",
       "      console.log(\"Bokeh: injecting CSS: https://cdn.pydata.org/bokeh/release/bokeh-tables-0.12.10.min.css\");\n",
       "      Bokeh.embed.inject_css(\"https://cdn.pydata.org/bokeh/release/bokeh-tables-0.12.10.min.css\");\n",
       "    }\n",
       "  ];\n",
       "\n",
       "  function run_inline_js() {\n",
       "    \n",
       "    if ((root.Bokeh !== undefined) || (force === true)) {\n",
       "      for (var i = 0; i < inline_js.length; i++) {\n",
       "        inline_js[i].call(root, root.Bokeh);\n",
       "      }if (force === true) {\n",
       "        display_loaded();\n",
       "      }} else if (Date.now() < root._bokeh_timeout) {\n",
       "      setTimeout(run_inline_js, 100);\n",
       "    } else if (!root._bokeh_failed_load) {\n",
       "      console.log(\"Bokeh: BokehJS failed to load within specified timeout.\");\n",
       "      root._bokeh_failed_load = true;\n",
       "    } else if (force !== true) {\n",
       "      var cell = $(document.getElementById(\"3c496472-0f4c-4b6d-97a2-16c9186b4bad\")).parents('.cell').data().cell;\n",
       "      cell.output_area.append_execute_result(NB_LOAD_WARNING)\n",
       "    }\n",
       "\n",
       "  }\n",
       "\n",
       "  if (root._bokeh_is_loading === 0) {\n",
       "    console.log(\"Bokeh: BokehJS loaded, going straight to plotting\");\n",
       "    run_inline_js();\n",
       "  } else {\n",
       "    load_libs(js_urls, function() {\n",
       "      console.log(\"Bokeh: BokehJS plotting callback run at\", now());\n",
       "      run_inline_js();\n",
       "    });\n",
       "  }\n",
       "}(window));"
      ],
      "application/vnd.bokehjs_load.v0+json": "\n(function(root) {\n  function now() {\n    return new Date();\n  }\n\n  var force = true;\n\n  if (typeof (root._bokeh_onload_callbacks) === \"undefined\" || force === true) {\n    root._bokeh_onload_callbacks = [];\n    root._bokeh_is_loading = undefined;\n  }\n\n  \n\n  \n  if (typeof (root._bokeh_timeout) === \"undefined\" || force === true) {\n    root._bokeh_timeout = Date.now() + 5000;\n    root._bokeh_failed_load = false;\n  }\n\n  var NB_LOAD_WARNING = {'data': {'text/html':\n     \"<div style='background-color: #fdd'>\\n\"+\n     \"<p>\\n\"+\n     \"BokehJS does not appear to have successfully loaded. If loading BokehJS from CDN, this \\n\"+\n     \"may be due to a slow or bad network connection. Possible fixes:\\n\"+\n     \"</p>\\n\"+\n     \"<ul>\\n\"+\n     \"<li>re-rerun `output_notebook()` to attempt to load from CDN again, or</li>\\n\"+\n     \"<li>use INLINE resources instead, as so:</li>\\n\"+\n     \"</ul>\\n\"+\n     \"<code>\\n\"+\n     \"from bokeh.resources import INLINE\\n\"+\n     \"output_notebook(resources=INLINE)\\n\"+\n     \"</code>\\n\"+\n     \"</div>\"}};\n\n  function display_loaded() {\n    var el = document.getElementById(\"3c496472-0f4c-4b6d-97a2-16c9186b4bad\");\n    if (el != null) {\n      el.textContent = \"BokehJS is loading...\";\n    }\n    if (root.Bokeh !== undefined) {\n      if (el != null) {\n        el.textContent = \"BokehJS \" + root.Bokeh.version + \" successfully loaded.\";\n      }\n    } else if (Date.now() < root._bokeh_timeout) {\n      setTimeout(display_loaded, 100)\n    }\n  }\n\n\n  function run_callbacks() {\n    try {\n      root._bokeh_onload_callbacks.forEach(function(callback) { callback() });\n    }\n    finally {\n      delete root._bokeh_onload_callbacks\n    }\n    console.info(\"Bokeh: all callbacks have finished\");\n  }\n\n  function load_libs(js_urls, callback) {\n    root._bokeh_onload_callbacks.push(callback);\n    if (root._bokeh_is_loading > 0) {\n      console.log(\"Bokeh: BokehJS is being loaded, scheduling callback at\", now());\n      return null;\n    }\n    if (js_urls == null || js_urls.length === 0) {\n      run_callbacks();\n      return null;\n    }\n    console.log(\"Bokeh: BokehJS not loaded, scheduling load and callback at\", now());\n    root._bokeh_is_loading = js_urls.length;\n    for (var i = 0; i < js_urls.length; i++) {\n      var url = js_urls[i];\n      var s = document.createElement('script');\n      s.src = url;\n      s.async = false;\n      s.onreadystatechange = s.onload = function() {\n        root._bokeh_is_loading--;\n        if (root._bokeh_is_loading === 0) {\n          console.log(\"Bokeh: all BokehJS libraries loaded\");\n          run_callbacks()\n        }\n      };\n      s.onerror = function() {\n        console.warn(\"failed to load library \" + url);\n      };\n      console.log(\"Bokeh: injecting script tag for BokehJS library: \", url);\n      document.getElementsByTagName(\"head\")[0].appendChild(s);\n    }\n  };var element = document.getElementById(\"3c496472-0f4c-4b6d-97a2-16c9186b4bad\");\n  if (element == null) {\n    console.log(\"Bokeh: ERROR: autoload.js configured with elementid '3c496472-0f4c-4b6d-97a2-16c9186b4bad' but no matching script tag was found. \")\n    return false;\n  }\n\n  var js_urls = [\"https://cdn.pydata.org/bokeh/release/bokeh-0.12.10.min.js\", \"https://cdn.pydata.org/bokeh/release/bokeh-widgets-0.12.10.min.js\", \"https://cdn.pydata.org/bokeh/release/bokeh-tables-0.12.10.min.js\", \"https://cdn.pydata.org/bokeh/release/bokeh-gl-0.12.10.min.js\"];\n\n  var inline_js = [\n    function(Bokeh) {\n      Bokeh.set_log_level(\"info\");\n    },\n    \n    function(Bokeh) {\n      \n    },\n    function(Bokeh) {\n      console.log(\"Bokeh: injecting CSS: https://cdn.pydata.org/bokeh/release/bokeh-0.12.10.min.css\");\n      Bokeh.embed.inject_css(\"https://cdn.pydata.org/bokeh/release/bokeh-0.12.10.min.css\");\n      console.log(\"Bokeh: injecting CSS: https://cdn.pydata.org/bokeh/release/bokeh-widgets-0.12.10.min.css\");\n      Bokeh.embed.inject_css(\"https://cdn.pydata.org/bokeh/release/bokeh-widgets-0.12.10.min.css\");\n      console.log(\"Bokeh: injecting CSS: https://cdn.pydata.org/bokeh/release/bokeh-tables-0.12.10.min.css\");\n      Bokeh.embed.inject_css(\"https://cdn.pydata.org/bokeh/release/bokeh-tables-0.12.10.min.css\");\n    }\n  ];\n\n  function run_inline_js() {\n    \n    if ((root.Bokeh !== undefined) || (force === true)) {\n      for (var i = 0; i < inline_js.length; i++) {\n        inline_js[i].call(root, root.Bokeh);\n      }if (force === true) {\n        display_loaded();\n      }} else if (Date.now() < root._bokeh_timeout) {\n      setTimeout(run_inline_js, 100);\n    } else if (!root._bokeh_failed_load) {\n      console.log(\"Bokeh: BokehJS failed to load within specified timeout.\");\n      root._bokeh_failed_load = true;\n    } else if (force !== true) {\n      var cell = $(document.getElementById(\"3c496472-0f4c-4b6d-97a2-16c9186b4bad\")).parents('.cell').data().cell;\n      cell.output_area.append_execute_result(NB_LOAD_WARNING)\n    }\n\n  }\n\n  if (root._bokeh_is_loading === 0) {\n    console.log(\"Bokeh: BokehJS loaded, going straight to plotting\");\n    run_inline_js();\n  } else {\n    load_libs(js_urls, function() {\n      console.log(\"Bokeh: BokehJS plotting callback run at\", now());\n      run_inline_js();\n    });\n  }\n}(window));"
     },
     "metadata": {},
     "output_type": "display_data"
    }
   ],
   "source": [
    "from bokeh.io import show,output_notebook\n",
    "#Funciones para controlar dónde y cómo los documentos de Bokeh se guardan o se muestran\n",
    "from bokeh.models import ColumnDataSource\n",
    "#Comprende un diagrama de bokeh o una aplicacion(sus herramientas,controles,entre otros.)\n",
    "from bokeh.plotting import figure\n",
    "#Contiene diversos metodos del objeto figure lo cual nos facilitara la creacion de graficas\n",
    "from bokeh.layouts import gridplot\n",
    "#La forma mas sencilla de controlar columnas y filas dentro de un grafico\n",
    "from bokeh.core.properties import value\n",
    "#Permite la creacion de rango,ejes,entre otros.\n",
    "from bokeh.transform import dodge\n",
    "output_notebook()\n",
    "#Configura el estado de salida de la grafica"
   ]
  },
  {
   "cell_type": "markdown",
   "metadata": {},
   "source": [
    "### Divorcios A Nivel Nacional (Meses)\n"
   ]
  },
  {
   "cell_type": "markdown",
   "metadata": {},
   "source": [
    "<p>Representación de los divorcios a nivel nacional por meses</p>"
   ]
  },
  {
   "cell_type": "code",
   "execution_count": 6,
   "metadata": {},
   "outputs": [],
   "source": [
    "mes = list((datos_csv[\"mes_div\"]))#Creamos una lista que contiene todos los meses \n",
    "meses = list(set(mes))#Asigamos la lista a una variable ***"
   ]
  },
  {
   "cell_type": "code",
   "execution_count": 7,
   "metadata": {},
   "outputs": [],
   "source": [
    "#Se cuenta el numero de divorcios por meses y se asigna a cada variable una posición\n",
    "enero = mes.count(meses[0])\n",
    "febrero = mes.count(meses[1])\n",
    "marzo = mes.count(meses[2])\n",
    "abril = mes.count(meses[3])\n",
    "mayo = mes.count(meses[4])\n",
    "junio = mes.count(meses[5])\n",
    "julio = mes.count(meses[6])\n",
    "agosto = mes.count(meses[7])\n",
    "septiembre = mes.count(meses[8])\n",
    "octubre = mes.count(meses[9])\n",
    "noviembre = mes.count(meses[10])\n",
    "diciembre = mes.count(meses[11])"
   ]
  },
  {
   "cell_type": "code",
   "execution_count": 8,
   "metadata": {},
   "outputs": [
    {
     "data": {
      "text/html": [
       "\n",
       "<div class=\"bk-root\">\n",
       "    <div class=\"bk-plotdiv\" id=\"a0a19468-ac0b-435d-a2d3-d682867f00a5\"></div>\n",
       "</div>"
      ]
     },
     "metadata": {},
     "output_type": "display_data"
    },
    {
     "data": {
      "application/javascript": [
       "(function(root) {\n",
       "  function embed_document(root) {\n",
       "    var docs_json = {\"81ddf059-3f4f-483e-9c35-a28495d7c7a8\":{\"roots\":{\"references\":[{\"attributes\":{},\"id\":\"9ef06fde-c45b-4d57-9d14-df9f1c143b9a\",\"type\":\"BasicTicker\"},{\"attributes\":{\"callback\":null,\"factors\":[\"Julio\",\"Septiembre\",\"Marzo\",\"Junio\",\"Abril\",\"Enero\",\"Agosto\",\"Febrero\",\"Diciembre\",\"Noviembre\",\"Mayo\",\"Octubre\"]},\"id\":\"7657a20c-dc95-4d8b-be3c-78f9f4c28523\",\"type\":\"FactorRange\"},{\"attributes\":{},\"id\":\"e26ad03b-ad4a-4b85-967a-60770adea1e9\",\"type\":\"LinearScale\"},{\"attributes\":{\"callback\":null,\"column_names\":[\"x\",\"top\",\"line_color\",\"fill_color\"],\"data\":{\"fill_color\":[\"#F39B36\",\"#58F66D\",\"#F61F46\",\"#4A56F7\",\"#F8F422\",\"#D759EE\",\"#C77F40\",\"#BCE144\",\"#64E7E7\",\"#D4EF4D\",\"#A0A4A9\",\"#51EAA7\"],\"line_color\":[\"#F39B36\",\"#58F66D\",\"#F61F46\",\"#4A56F7\",\"#F8F422\",\"#D759EE\",\"#C77F40\",\"#BCE144\",\"#64E7E7\",\"#D4EF4D\",\"#A0A4A9\",\"#51EAA7\"],\"top\":[2369,2689,1911,2320,1856,2032,2487,1873,2051,1986,1878,2196],\"x\":[\"Julio\",\"Septiembre\",\"Marzo\",\"Junio\",\"Abril\",\"Enero\",\"Agosto\",\"Febrero\",\"Diciembre\",\"Noviembre\",\"Mayo\",\"Octubre\"]}},\"id\":\"21478e6e-411c-48a8-812a-9d2395a861f7\",\"type\":\"ColumnDataSource\"},{\"attributes\":{\"plot\":null,\"text\":\"Divorcios A Nivel Nacional Por Meses\"},\"id\":\"ce0788c3-9ea7-4fdc-990e-1395da6a0fb1\",\"type\":\"Title\"},{\"attributes\":{},\"id\":\"bf988abb-4782-4728-bdd4-5decd00d7e98\",\"type\":\"CategoricalTickFormatter\"},{\"attributes\":{\"formatter\":{\"id\":\"3492c36c-2a14-41b9-aac8-c7c7a15a25de\",\"type\":\"BasicTickFormatter\"},\"plot\":{\"id\":\"899e6894-c17a-4ce7-91c0-b5a9c25257c9\",\"subtype\":\"Figure\",\"type\":\"Plot\"},\"ticker\":{\"id\":\"9ef06fde-c45b-4d57-9d14-df9f1c143b9a\",\"type\":\"BasicTicker\"}},\"id\":\"b8f34db9-57d1-46cd-b1ca-8db8dd99f831\",\"type\":\"LinearAxis\"},{\"attributes\":{\"below\":[{\"id\":\"b328bb68-8c0f-4a1b-8f06-b27efc74243c\",\"type\":\"CategoricalAxis\"}],\"left\":[{\"id\":\"b8f34db9-57d1-46cd-b1ca-8db8dd99f831\",\"type\":\"LinearAxis\"}],\"plot_height\":300,\"plot_width\":1000,\"renderers\":[{\"id\":\"b328bb68-8c0f-4a1b-8f06-b27efc74243c\",\"type\":\"CategoricalAxis\"},{\"id\":\"74ff1938-db1f-40af-a08f-2aa23f37cab4\",\"type\":\"Grid\"},{\"id\":\"b8f34db9-57d1-46cd-b1ca-8db8dd99f831\",\"type\":\"LinearAxis\"},{\"id\":\"27e0c4ae-8188-459e-99a6-185cbc76b8e2\",\"type\":\"Grid\"},{\"id\":\"0b6a8fe6-e70f-4939-8117-641c82d92d57\",\"type\":\"BoxAnnotation\"},{\"id\":\"b055f437-7fec-44d3-867e-26b013c17218\",\"type\":\"GlyphRenderer\"}],\"title\":{\"id\":\"ce0788c3-9ea7-4fdc-990e-1395da6a0fb1\",\"type\":\"Title\"},\"title_location\":\"below\",\"toolbar\":{\"id\":\"68b304cb-bff5-42a1-9740-b3528409e4eb\",\"type\":\"Toolbar\"},\"x_range\":{\"id\":\"7657a20c-dc95-4d8b-be3c-78f9f4c28523\",\"type\":\"FactorRange\"},\"x_scale\":{\"id\":\"11b8605e-5714-44de-8ce4-16adab9297fa\",\"type\":\"CategoricalScale\"},\"y_range\":{\"id\":\"040be49e-e486-4c1b-9e9c-94a1ca725e31\",\"type\":\"DataRange1d\"},\"y_scale\":{\"id\":\"e26ad03b-ad4a-4b85-967a-60770adea1e9\",\"type\":\"LinearScale\"}},\"id\":\"899e6894-c17a-4ce7-91c0-b5a9c25257c9\",\"subtype\":\"Figure\",\"type\":\"Plot\"},{\"attributes\":{\"callback\":null,\"start\":0},\"id\":\"040be49e-e486-4c1b-9e9c-94a1ca725e31\",\"type\":\"DataRange1d\"},{\"attributes\":{\"formatter\":{\"id\":\"bf988abb-4782-4728-bdd4-5decd00d7e98\",\"type\":\"CategoricalTickFormatter\"},\"plot\":{\"id\":\"899e6894-c17a-4ce7-91c0-b5a9c25257c9\",\"subtype\":\"Figure\",\"type\":\"Plot\"},\"ticker\":{\"id\":\"cdb2c952-2ce2-45db-abf8-b2b8128c75c6\",\"type\":\"CategoricalTicker\"}},\"id\":\"b328bb68-8c0f-4a1b-8f06-b27efc74243c\",\"type\":\"CategoricalAxis\"},{\"attributes\":{},\"id\":\"aeb689bc-a080-4469-a14b-606516fb69a7\",\"type\":\"WheelZoomTool\"},{\"attributes\":{},\"id\":\"f92a8d01-8702-4625-8abd-fc003ec386a6\",\"type\":\"HelpTool\"},{\"attributes\":{},\"id\":\"f4a4447c-e3bf-4e0e-a50f-9a1717379456\",\"type\":\"SaveTool\"},{\"attributes\":{\"fill_alpha\":{\"value\":0.1},\"fill_color\":{\"value\":\"#1f77b4\"},\"line_alpha\":{\"value\":0.1},\"line_color\":{\"value\":\"#1f77b4\"},\"top\":{\"field\":\"top\"},\"width\":{\"value\":0.6},\"x\":{\"field\":\"x\"}},\"id\":\"d1c66737-7a80-422e-ab70-b85eff7cdadd\",\"type\":\"VBar\"},{\"attributes\":{\"overlay\":{\"id\":\"0b6a8fe6-e70f-4939-8117-641c82d92d57\",\"type\":\"BoxAnnotation\"}},\"id\":\"5397b63b-0d6d-4412-a157-c7c0bef0b412\",\"type\":\"BoxZoomTool\"},{\"attributes\":{\"active_drag\":\"auto\",\"active_inspect\":\"auto\",\"active_scroll\":\"auto\",\"active_tap\":\"auto\",\"tools\":[{\"id\":\"9809cbb2-f126-4a40-b642-df4c4a4b83c0\",\"type\":\"PanTool\"},{\"id\":\"aeb689bc-a080-4469-a14b-606516fb69a7\",\"type\":\"WheelZoomTool\"},{\"id\":\"5397b63b-0d6d-4412-a157-c7c0bef0b412\",\"type\":\"BoxZoomTool\"},{\"id\":\"f4a4447c-e3bf-4e0e-a50f-9a1717379456\",\"type\":\"SaveTool\"},{\"id\":\"b11c5194-042d-422f-b630-450a37fc1c7c\",\"type\":\"ResetTool\"},{\"id\":\"f92a8d01-8702-4625-8abd-fc003ec386a6\",\"type\":\"HelpTool\"}]},\"id\":\"68b304cb-bff5-42a1-9740-b3528409e4eb\",\"type\":\"Toolbar\"},{\"attributes\":{},\"id\":\"3492c36c-2a14-41b9-aac8-c7c7a15a25de\",\"type\":\"BasicTickFormatter\"},{\"attributes\":{},\"id\":\"11b8605e-5714-44de-8ce4-16adab9297fa\",\"type\":\"CategoricalScale\"},{\"attributes\":{},\"id\":\"b11c5194-042d-422f-b630-450a37fc1c7c\",\"type\":\"ResetTool\"},{\"attributes\":{\"data_source\":{\"id\":\"21478e6e-411c-48a8-812a-9d2395a861f7\",\"type\":\"ColumnDataSource\"},\"glyph\":{\"id\":\"3791e9a4-73ef-4aac-9a1e-a7b183d4bda0\",\"type\":\"VBar\"},\"hover_glyph\":null,\"muted_glyph\":null,\"nonselection_glyph\":{\"id\":\"d1c66737-7a80-422e-ab70-b85eff7cdadd\",\"type\":\"VBar\"},\"selection_glyph\":null,\"view\":{\"id\":\"bd46b6eb-6727-47e6-8690-8f69946dd77b\",\"type\":\"CDSView\"}},\"id\":\"b055f437-7fec-44d3-867e-26b013c17218\",\"type\":\"GlyphRenderer\"},{\"attributes\":{},\"id\":\"cdb2c952-2ce2-45db-abf8-b2b8128c75c6\",\"type\":\"CategoricalTicker\"},{\"attributes\":{\"source\":{\"id\":\"21478e6e-411c-48a8-812a-9d2395a861f7\",\"type\":\"ColumnDataSource\"}},\"id\":\"bd46b6eb-6727-47e6-8690-8f69946dd77b\",\"type\":\"CDSView\"},{\"attributes\":{\"bottom_units\":\"screen\",\"fill_alpha\":{\"value\":0.5},\"fill_color\":{\"value\":\"lightgrey\"},\"left_units\":\"screen\",\"level\":\"overlay\",\"line_alpha\":{\"value\":1.0},\"line_color\":{\"value\":\"black\"},\"line_dash\":[4,4],\"line_width\":{\"value\":2},\"plot\":null,\"render_mode\":\"css\",\"right_units\":\"screen\",\"top_units\":\"screen\"},\"id\":\"0b6a8fe6-e70f-4939-8117-641c82d92d57\",\"type\":\"BoxAnnotation\"},{\"attributes\":{\"grid_line_color\":{\"value\":null},\"plot\":{\"id\":\"899e6894-c17a-4ce7-91c0-b5a9c25257c9\",\"subtype\":\"Figure\",\"type\":\"Plot\"},\"ticker\":{\"id\":\"cdb2c952-2ce2-45db-abf8-b2b8128c75c6\",\"type\":\"CategoricalTicker\"}},\"id\":\"74ff1938-db1f-40af-a08f-2aa23f37cab4\",\"type\":\"Grid\"},{\"attributes\":{},\"id\":\"9809cbb2-f126-4a40-b642-df4c4a4b83c0\",\"type\":\"PanTool\"},{\"attributes\":{\"fill_color\":{\"field\":\"fill_color\"},\"line_color\":{\"field\":\"line_color\"},\"top\":{\"field\":\"top\"},\"width\":{\"value\":0.6},\"x\":{\"field\":\"x\"}},\"id\":\"3791e9a4-73ef-4aac-9a1e-a7b183d4bda0\",\"type\":\"VBar\"},{\"attributes\":{\"dimension\":1,\"plot\":{\"id\":\"899e6894-c17a-4ce7-91c0-b5a9c25257c9\",\"subtype\":\"Figure\",\"type\":\"Plot\"},\"ticker\":{\"id\":\"9ef06fde-c45b-4d57-9d14-df9f1c143b9a\",\"type\":\"BasicTicker\"}},\"id\":\"27e0c4ae-8188-459e-99a6-185cbc76b8e2\",\"type\":\"Grid\"}],\"root_ids\":[\"899e6894-c17a-4ce7-91c0-b5a9c25257c9\"]},\"title\":\"Bokeh Application\",\"version\":\"0.12.10\"}};\n",
       "    var render_items = [{\"docid\":\"81ddf059-3f4f-483e-9c35-a28495d7c7a8\",\"elementid\":\"a0a19468-ac0b-435d-a2d3-d682867f00a5\",\"modelid\":\"899e6894-c17a-4ce7-91c0-b5a9c25257c9\"}];\n",
       "\n",
       "    root.Bokeh.embed.embed_items(docs_json, render_items);\n",
       "  }\n",
       "\n",
       "  if (root.Bokeh !== undefined) {\n",
       "    embed_document(root);\n",
       "  } else {\n",
       "    var attempts = 0;\n",
       "    var timer = setInterval(function(root) {\n",
       "      if (root.Bokeh !== undefined) {\n",
       "        embed_document(root);\n",
       "        clearInterval(timer);\n",
       "      }\n",
       "      attempts++;\n",
       "      if (attempts > 100) {\n",
       "        console.log(\"Bokeh: ERROR: Unable to embed document because BokehJS library is missing\")\n",
       "        clearInterval(timer);\n",
       "      }\n",
       "    }, 10, root)\n",
       "  }\n",
       "})(window);"
      ],
      "application/vnd.bokehjs_exec.v0+json": ""
     },
     "metadata": {
      "application/vnd.bokehjs_exec.v0+json": {
       "id": "899e6894-c17a-4ce7-91c0-b5a9c25257c9"
      }
     },
     "output_type": "display_data"
    }
   ],
   "source": [
    "#Creamos una arreglo que contiene un color para cada barra\n",
    "colores=[\"#F39B36\",\"#58F66D\",\"#F61F46\",\"#4A56F7\",\"#F8F422\",\"#D759EE\",\"#C77F40\",\"#BCE144\",\"#64E7E7\",\"#D4EF4D\",\"#A0A4A9\",\"#51EAA7\"]\n",
    "#Creamos una lista con los valores contados anteriormente para realizar la grafica\n",
    "lista=[enero,febrero,marzo,abril,mayo,junio,julio,agosto,septiembre,octubre,noviembre,diciembre]\n",
    "#Se crea el diseño de la grafica con sus caracteristicas\n",
    "barras = figure(x_range= meses, plot_width=1000,plot_height=300, title=\"Divorcios A Nivel Nacional Por Meses\",title_location=\"below\", toolbar_location=\"right\")\n",
    "barras.vbar(x=meses, top = lista,width=0.6,color=colores)\n",
    "barras.xgrid.grid_line_color= None\n",
    "barras.y_range.start=0\n",
    "#Se presenta la grafica\n",
    "show(barras)"
   ]
  },
  {
   "cell_type": "markdown",
   "metadata": {},
   "source": [
    "###### Explicación De La Gráfica"
   ]
  },
  {
   "cell_type": "markdown",
   "metadata": {},
   "source": [
    "- A nivel nacional el mes con mayor número que ha tenido una mayor concurrencia es Septiembre.\n",
    "- En Febrero, Abril y Mayo han tenido concurrencia mas baja de divorcios.\n"
   ]
  },
  {
   "cell_type": "markdown",
   "metadata": {},
   "source": [
    "### Divorcios A Nivel Nacional Año 2016\n"
   ]
  },
  {
   "cell_type": "markdown",
   "metadata": {},
   "source": [
    "Obtencion del indice de divorcio a partir del año 2016 con el respectivo mes, a Nivel Nacional"
   ]
  },
  {
   "cell_type": "code",
   "execution_count": 9,
   "metadata": {},
   "outputs": [
    {
     "data": {
      "text/html": [
       "<div>\n",
       "<style scoped>\n",
       "    .dataframe tbody tr th:only-of-type {\n",
       "        vertical-align: middle;\n",
       "    }\n",
       "\n",
       "    .dataframe tbody tr th {\n",
       "        vertical-align: top;\n",
       "    }\n",
       "\n",
       "    .dataframe thead th {\n",
       "        text-align: right;\n",
       "    }\n",
       "</style>\n",
       "<table border=\"1\" class=\"dataframe\">\n",
       "  <thead>\n",
       "    <tr style=\"text-align: right;\">\n",
       "      <th></th>\n",
       "      <th>﻿ofi_insc</th>\n",
       "      <th>prov_insc</th>\n",
       "      <th>cant_insc</th>\n",
       "      <th>parr_insc</th>\n",
       "      <th>anio_insc</th>\n",
       "      <th>mes_insc</th>\n",
       "      <th>dia_insc</th>\n",
       "      <th>fecha_insc</th>\n",
       "      <th>anio_div</th>\n",
       "      <th>dia_div</th>\n",
       "      <th>...</th>\n",
       "      <th>fecha_nacm</th>\n",
       "      <th>edad_muj</th>\n",
       "      <th>hijos_muj</th>\n",
       "      <th>p_etnica_muj</th>\n",
       "      <th>sabe_leerm</th>\n",
       "      <th>niv_instm</th>\n",
       "      <th>prov_habm</th>\n",
       "      <th>cant_habm</th>\n",
       "      <th>parr_habm</th>\n",
       "      <th>area_muj</th>\n",
       "    </tr>\n",
       "    <tr>\n",
       "      <th>mes_div</th>\n",
       "      <th></th>\n",
       "      <th></th>\n",
       "      <th></th>\n",
       "      <th></th>\n",
       "      <th></th>\n",
       "      <th></th>\n",
       "      <th></th>\n",
       "      <th></th>\n",
       "      <th></th>\n",
       "      <th></th>\n",
       "      <th></th>\n",
       "      <th></th>\n",
       "      <th></th>\n",
       "      <th></th>\n",
       "      <th></th>\n",
       "      <th></th>\n",
       "      <th></th>\n",
       "      <th></th>\n",
       "      <th></th>\n",
       "      <th></th>\n",
       "      <th></th>\n",
       "    </tr>\n",
       "  </thead>\n",
       "  <tbody>\n",
       "    <tr>\n",
       "      <th>Enero</th>\n",
       "      <td>1</td>\n",
       "      <td>Bolivar</td>\n",
       "      <td>Guaranda</td>\n",
       "      <td>Angel Polibio Chaves</td>\n",
       "      <td>2016</td>\n",
       "      <td>Febrero</td>\n",
       "      <td>10</td>\n",
       "      <td>02/10/2016</td>\n",
       "      <td>2016</td>\n",
       "      <td>28</td>\n",
       "      <td>...</td>\n",
       "      <td>9/15/1966</td>\n",
       "      <td>49</td>\n",
       "      <td>0</td>\n",
       "      <td>Mestiza</td>\n",
       "      <td>Si</td>\n",
       "      <td>Superior</td>\n",
       "      <td>Bolivar</td>\n",
       "      <td>Las Naves</td>\n",
       "      <td>Las Naves, cabecera cantonal</td>\n",
       "      <td>Urbana</td>\n",
       "    </tr>\n",
       "    <tr>\n",
       "      <th>Enero</th>\n",
       "      <td>1</td>\n",
       "      <td>Guayas</td>\n",
       "      <td>Guayaquil</td>\n",
       "      <td>Rocafuerte</td>\n",
       "      <td>2016</td>\n",
       "      <td>Marzo</td>\n",
       "      <td>4</td>\n",
       "      <td>03/04/2016</td>\n",
       "      <td>2016</td>\n",
       "      <td>25</td>\n",
       "      <td>...</td>\n",
       "      <td>11/18/1973</td>\n",
       "      <td>42</td>\n",
       "      <td>0</td>\n",
       "      <td>Mestiza</td>\n",
       "      <td>Si</td>\n",
       "      <td>Se ignora</td>\n",
       "      <td>Guayas</td>\n",
       "      <td>Guayaquil</td>\n",
       "      <td>Guayaquil, cabecera cantonal y capital provincial</td>\n",
       "      <td>Urbana</td>\n",
       "    </tr>\n",
       "    <tr>\n",
       "      <th>Enero</th>\n",
       "      <td>1</td>\n",
       "      <td>Guayas</td>\n",
       "      <td>Guayaquil</td>\n",
       "      <td>Rocafuerte</td>\n",
       "      <td>2016</td>\n",
       "      <td>Marzo</td>\n",
       "      <td>10</td>\n",
       "      <td>03/10/2016</td>\n",
       "      <td>2016</td>\n",
       "      <td>29</td>\n",
       "      <td>...</td>\n",
       "      <td>07/12/1984</td>\n",
       "      <td>31</td>\n",
       "      <td>0</td>\n",
       "      <td>Mestiza</td>\n",
       "      <td>Si</td>\n",
       "      <td>Secundaria</td>\n",
       "      <td>Guayas</td>\n",
       "      <td>Guayaquil</td>\n",
       "      <td>Guayaquil, cabecera cantonal y capital provincial</td>\n",
       "      <td>Urbana</td>\n",
       "    </tr>\n",
       "    <tr>\n",
       "      <th>Enero</th>\n",
       "      <td>1</td>\n",
       "      <td>Imbabura</td>\n",
       "      <td>Ibarra</td>\n",
       "      <td>San Francisco</td>\n",
       "      <td>2016</td>\n",
       "      <td>Febrero</td>\n",
       "      <td>15</td>\n",
       "      <td>2/15/2016</td>\n",
       "      <td>2016</td>\n",
       "      <td>18</td>\n",
       "      <td>...</td>\n",
       "      <td>04/09/1968</td>\n",
       "      <td>47</td>\n",
       "      <td>1</td>\n",
       "      <td>Otra</td>\n",
       "      <td>Si</td>\n",
       "      <td>Secundaria</td>\n",
       "      <td>Imbabura</td>\n",
       "      <td>Cotacachi</td>\n",
       "      <td>San Francisco</td>\n",
       "      <td>Urbana</td>\n",
       "    </tr>\n",
       "    <tr>\n",
       "      <th>Enero</th>\n",
       "      <td>1</td>\n",
       "      <td>Pichincha</td>\n",
       "      <td>Quito</td>\n",
       "      <td>Quitumbe</td>\n",
       "      <td>2016</td>\n",
       "      <td>Febrero</td>\n",
       "      <td>2</td>\n",
       "      <td>02/02/2016</td>\n",
       "      <td>2016</td>\n",
       "      <td>6</td>\n",
       "      <td>...</td>\n",
       "      <td></td>\n",
       "      <td>999</td>\n",
       "      <td>0</td>\n",
       "      <td>Mestiza</td>\n",
       "      <td>Si</td>\n",
       "      <td>Bachillerato</td>\n",
       "      <td>Pichincha</td>\n",
       "      <td>Quito</td>\n",
       "      <td>Quito Distrito Metropolitano, cabecera cantona...</td>\n",
       "      <td>Urbana</td>\n",
       "    </tr>\n",
       "  </tbody>\n",
       "</table>\n",
       "<p>5 rows × 48 columns</p>\n",
       "</div>"
      ],
      "text/plain": [
       "         ﻿ofi_insc  prov_insc  cant_insc             parr_insc  anio_insc  \\\n",
       "mes_div                                                                     \n",
       "Enero            1    Bolivar   Guaranda  Angel Polibio Chaves       2016   \n",
       "Enero            1     Guayas  Guayaquil            Rocafuerte       2016   \n",
       "Enero            1     Guayas  Guayaquil            Rocafuerte       2016   \n",
       "Enero            1   Imbabura     Ibarra         San Francisco       2016   \n",
       "Enero            1  Pichincha      Quito              Quitumbe       2016   \n",
       "\n",
       "        mes_insc  dia_insc  fecha_insc  anio_div  dia_div   ...     \\\n",
       "mes_div                                                     ...      \n",
       "Enero    Febrero        10  02/10/2016      2016       28   ...      \n",
       "Enero      Marzo         4  03/04/2016      2016       25   ...      \n",
       "Enero      Marzo        10  03/10/2016      2016       29   ...      \n",
       "Enero    Febrero        15   2/15/2016      2016       18   ...      \n",
       "Enero    Febrero         2  02/02/2016      2016        6   ...      \n",
       "\n",
       "         fecha_nacm  edad_muj hijos_muj  p_etnica_muj sabe_leerm  \\\n",
       "mes_div                                                            \n",
       "Enero     9/15/1966        49         0       Mestiza         Si   \n",
       "Enero    11/18/1973        42         0       Mestiza         Si   \n",
       "Enero    07/12/1984        31         0       Mestiza         Si   \n",
       "Enero    04/09/1968        47         1          Otra         Si   \n",
       "Enero                     999         0       Mestiza         Si   \n",
       "\n",
       "            niv_instm  prov_habm  cant_habm  \\\n",
       "mes_div                                       \n",
       "Enero        Superior    Bolivar  Las Naves   \n",
       "Enero       Se ignora     Guayas  Guayaquil   \n",
       "Enero      Secundaria     Guayas  Guayaquil   \n",
       "Enero      Secundaria   Imbabura  Cotacachi   \n",
       "Enero    Bachillerato  Pichincha      Quito   \n",
       "\n",
       "                                                 parr_habm area_muj  \n",
       "mes_div                                                              \n",
       "Enero                         Las Naves, cabecera cantonal   Urbana  \n",
       "Enero    Guayaquil, cabecera cantonal y capital provincial   Urbana  \n",
       "Enero    Guayaquil, cabecera cantonal y capital provincial   Urbana  \n",
       "Enero                                        San Francisco   Urbana  \n",
       "Enero    Quito Distrito Metropolitano, cabecera cantona...   Urbana  \n",
       "\n",
       "[5 rows x 48 columns]"
      ]
     },
     "execution_count": 9,
     "metadata": {},
     "output_type": "execute_result"
    }
   ],
   "source": [
    "year=datos_csv[datos_csv['anio_div']==2016]#filtro para obtener solo datos del año 2016\n",
    "year.set_index('mes_div').head()#se establecer los meses con el año 2016"
   ]
  },
  {
   "cell_type": "code",
   "execution_count": 10,
   "metadata": {},
   "outputs": [
    {
     "data": {
      "text/plain": [
       "﻿ofi_insc    1824\n",
       "prov_insc    1824\n",
       "cant_insc    1824\n",
       "parr_insc    1824\n",
       "anio_insc    1824\n",
       "dtype: int64"
      ]
     },
     "execution_count": 10,
     "metadata": {},
     "output_type": "execute_result"
    }
   ],
   "source": [
    "enero=year[year['mes_div']=='Enero']#Creamos una variable y asiganos el primer mes\n",
    "enero.count().head()#La variable creada para el primer precedemos a realizar el conteo\n"
   ]
  },
  {
   "cell_type": "code",
   "execution_count": 11,
   "metadata": {},
   "outputs": [],
   "source": [
    "#Creamos un arreglo que contiene todos los meses\n",
    "meses=[\"Enero\",\"Febrero\",\"Marzo\",\"Abril\",\"Mayo\",\"Junio\",\"Julio\",\"Agosto\",\"Septiembre\",\"Octubre\",\"Noviembre\",\"Diciembre\"]\n",
    "#Los valores respectivos de cada mes despues de su conteo como se muestra anteriormente\n",
    "valores2016=[1824,1704,1705,1625,1622,1981,1941,2036,1999,1519,1070,346]"
   ]
  },
  {
   "cell_type": "markdown",
   "metadata": {},
   "source": [
    "#### Gráfica  De Divorcios A Nivel Nacional Del Año 2016"
   ]
  },
  {
   "cell_type": "code",
   "execution_count": 12,
   "metadata": {},
   "outputs": [
    {
     "data": {
      "text/html": [
       "\n",
       "<div class=\"bk-root\">\n",
       "    <div class=\"bk-plotdiv\" id=\"6435dbec-b16a-42de-a8ef-33f39ecbfcd3\"></div>\n",
       "</div>"
      ]
     },
     "metadata": {},
     "output_type": "display_data"
    },
    {
     "data": {
      "application/javascript": [
       "(function(root) {\n",
       "  function embed_document(root) {\n",
       "    var docs_json = {\"8e5ac063-88c3-4bf1-8537-92f6afd8c5e9\":{\"roots\":{\"references\":[{\"attributes\":{\"formatter\":{\"id\":\"a29f5999-a131-439b-866d-f7959b1a39f7\",\"type\":\"CategoricalTickFormatter\"},\"plot\":{\"id\":\"b2e53d97-08d2-4cec-863a-1284a7b1ae93\",\"subtype\":\"Figure\",\"type\":\"Plot\"},\"ticker\":{\"id\":\"bebe61b2-e375-4e68-bc0c-f8a690266b8f\",\"type\":\"CategoricalTicker\"}},\"id\":\"79adb68a-53d2-403b-b322-7e92ffc3c2ce\",\"type\":\"CategoricalAxis\"},{\"attributes\":{},\"id\":\"500f9dde-facd-49ea-85f2-3a25f251c153\",\"type\":\"LinearScale\"},{\"attributes\":{},\"id\":\"a29f5999-a131-439b-866d-f7959b1a39f7\",\"type\":\"CategoricalTickFormatter\"},{\"attributes\":{},\"id\":\"bebe61b2-e375-4e68-bc0c-f8a690266b8f\",\"type\":\"CategoricalTicker\"},{\"attributes\":{},\"id\":\"56c15192-2606-4520-9364-476485919271\",\"type\":\"BasicTicker\"},{\"attributes\":{\"dimension\":1,\"plot\":{\"id\":\"b2e53d97-08d2-4cec-863a-1284a7b1ae93\",\"subtype\":\"Figure\",\"type\":\"Plot\"},\"ticker\":{\"id\":\"bebe61b2-e375-4e68-bc0c-f8a690266b8f\",\"type\":\"CategoricalTicker\"}},\"id\":\"481b8259-76f2-4e1e-bc42-4c301c809008\",\"type\":\"Grid\"},{\"attributes\":{\"source\":{\"id\":\"58be955c-e3cd-43a4-8a3f-62b1c8bec53a\",\"type\":\"ColumnDataSource\"}},\"id\":\"e6ce18d9-20ae-4770-a157-cab4bfe50c65\",\"type\":\"CDSView\"},{\"attributes\":{},\"id\":\"7dca291a-1dec-416c-9969-990e0cdb0793\",\"type\":\"BasicTickFormatter\"},{\"attributes\":{\"callback\":null,\"factors\":[\"Enero\",\"Febrero\",\"Marzo\",\"Abril\",\"Mayo\",\"Junio\",\"Julio\",\"Agosto\",\"Septiembre\",\"Octubre\",\"Noviembre\",\"Diciembre\"]},\"id\":\"a57bfa30-74f2-410c-a467-d9fd60a07c1b\",\"type\":\"FactorRange\"},{\"attributes\":{\"source\":{\"id\":\"570da9f0-ddca-49cc-a410-dd212f1fc88b\",\"type\":\"ColumnDataSource\"}},\"id\":\"acefe92c-91e4-46e2-9346-e13235d73643\",\"type\":\"CDSView\"},{\"attributes\":{\"overlay\":{\"id\":\"94687be8-0d52-423d-88a1-f22f8a17e213\",\"type\":\"BoxAnnotation\"}},\"id\":\"8b725abb-e297-4704-ab9e-f6777c5ed9be\",\"type\":\"BoxZoomTool\"},{\"attributes\":{\"bottom_units\":\"screen\",\"fill_alpha\":{\"value\":0.5},\"fill_color\":{\"value\":\"lightgrey\"},\"left_units\":\"screen\",\"level\":\"overlay\",\"line_alpha\":{\"value\":1.0},\"line_color\":{\"value\":\"black\"},\"line_dash\":[4,4],\"line_width\":{\"value\":2},\"plot\":null,\"render_mode\":\"css\",\"right_units\":\"screen\",\"top_units\":\"screen\"},\"id\":\"94687be8-0d52-423d-88a1-f22f8a17e213\",\"type\":\"BoxAnnotation\"},{\"attributes\":{\"plot\":{\"id\":\"b2e53d97-08d2-4cec-863a-1284a7b1ae93\",\"subtype\":\"Figure\",\"type\":\"Plot\"},\"ticker\":{\"id\":\"56c15192-2606-4520-9364-476485919271\",\"type\":\"BasicTicker\"}},\"id\":\"c98bfd40-f97a-47da-b062-0904b359d6ce\",\"type\":\"Grid\"},{\"attributes\":{\"callback\":null,\"column_names\":[\"y\",\"x\"],\"data\":{\"x\":[1824,1704,1705,1625,1622,1981,1941,2036,1999,1519,1070,346],\"y\":[\"Enero\",\"Febrero\",\"Marzo\",\"Abril\",\"Mayo\",\"Junio\",\"Julio\",\"Agosto\",\"Septiembre\",\"Octubre\",\"Noviembre\",\"Diciembre\"]}},\"id\":\"58be955c-e3cd-43a4-8a3f-62b1c8bec53a\",\"type\":\"ColumnDataSource\"},{\"attributes\":{\"data_source\":{\"id\":\"570da9f0-ddca-49cc-a410-dd212f1fc88b\",\"type\":\"ColumnDataSource\"},\"glyph\":{\"id\":\"b0d9fb87-5688-4b41-a28f-017522956d7c\",\"type\":\"Segment\"},\"hover_glyph\":null,\"muted_glyph\":null,\"nonselection_glyph\":{\"id\":\"1ea0c2c4-7baa-4281-808e-49b7b4974c9d\",\"type\":\"Segment\"},\"selection_glyph\":null,\"view\":{\"id\":\"acefe92c-91e4-46e2-9346-e13235d73643\",\"type\":\"CDSView\"}},\"id\":\"c3705240-61d0-46a7-819c-14de7fb4eb6c\",\"type\":\"GlyphRenderer\"},{\"attributes\":{\"formatter\":{\"id\":\"7dca291a-1dec-416c-9969-990e0cdb0793\",\"type\":\"BasicTickFormatter\"},\"plot\":{\"id\":\"b2e53d97-08d2-4cec-863a-1284a7b1ae93\",\"subtype\":\"Figure\",\"type\":\"Plot\"},\"ticker\":{\"id\":\"56c15192-2606-4520-9364-476485919271\",\"type\":\"BasicTicker\"}},\"id\":\"4e6bf3f0-6d21-427b-a4b1-4a712fb597ad\",\"type\":\"LinearAxis\"},{\"attributes\":{},\"id\":\"9e075287-67c4-4e90-b264-e17752601253\",\"type\":\"WheelZoomTool\"},{\"attributes\":{\"fill_color\":{\"value\":\"red\"},\"line_color\":{\"value\":\"blue\"},\"line_width\":{\"value\":4},\"size\":{\"units\":\"screen\",\"value\":20},\"x\":{\"field\":\"x\"},\"y\":{\"field\":\"y\"}},\"id\":\"a7a6ea69-ba2c-461b-9f6b-1d35ea294699\",\"type\":\"Circle\"},{\"attributes\":{},\"id\":\"e31924d0-f0da-497a-ab09-46e8983a85c0\",\"type\":\"HelpTool\"},{\"attributes\":{\"line_alpha\":{\"value\":0.1},\"line_color\":{\"value\":\"#1f77b4\"},\"line_width\":{\"value\":5},\"x0\":{\"value\":0},\"x1\":{\"field\":\"x1\"},\"y0\":{\"field\":\"y0\"},\"y1\":{\"field\":\"y1\"}},\"id\":\"1ea0c2c4-7baa-4281-808e-49b7b4974c9d\",\"type\":\"Segment\"},{\"attributes\":{\"below\":[{\"id\":\"4e6bf3f0-6d21-427b-a4b1-4a712fb597ad\",\"type\":\"LinearAxis\"}],\"left\":[{\"id\":\"79adb68a-53d2-403b-b322-7e92ffc3c2ce\",\"type\":\"CategoricalAxis\"}],\"renderers\":[{\"id\":\"4e6bf3f0-6d21-427b-a4b1-4a712fb597ad\",\"type\":\"LinearAxis\"},{\"id\":\"c98bfd40-f97a-47da-b062-0904b359d6ce\",\"type\":\"Grid\"},{\"id\":\"79adb68a-53d2-403b-b322-7e92ffc3c2ce\",\"type\":\"CategoricalAxis\"},{\"id\":\"481b8259-76f2-4e1e-bc42-4c301c809008\",\"type\":\"Grid\"},{\"id\":\"94687be8-0d52-423d-88a1-f22f8a17e213\",\"type\":\"BoxAnnotation\"},{\"id\":\"c3705240-61d0-46a7-819c-14de7fb4eb6c\",\"type\":\"GlyphRenderer\"},{\"id\":\"6fc96a30-2d81-409c-b2ca-15b003daaeb0\",\"type\":\"GlyphRenderer\"}],\"title\":{\"id\":\"40ca2e3a-f818-4fb9-b4e4-4f9c2b6e2c74\",\"type\":\"Title\"},\"toolbar\":{\"id\":\"0a9fe62d-e877-47c8-ba77-6d0dd311d4f7\",\"type\":\"Toolbar\"},\"x_range\":{\"id\":\"ed36659a-879d-42b7-8566-efc6e22c4a65\",\"type\":\"Range1d\"},\"x_scale\":{\"id\":\"500f9dde-facd-49ea-85f2-3a25f251c153\",\"type\":\"LinearScale\"},\"y_range\":{\"id\":\"a57bfa30-74f2-410c-a467-d9fd60a07c1b\",\"type\":\"FactorRange\"},\"y_scale\":{\"id\":\"7ae5c69f-9853-4628-878a-14a30f15dd0d\",\"type\":\"CategoricalScale\"}},\"id\":\"b2e53d97-08d2-4cec-863a-1284a7b1ae93\",\"subtype\":\"Figure\",\"type\":\"Plot\"},{\"attributes\":{\"plot\":null,\"text\":\"Divorcios 2016\"},\"id\":\"40ca2e3a-f818-4fb9-b4e4-4f9c2b6e2c74\",\"type\":\"Title\"},{\"attributes\":{},\"id\":\"d669b1ff-54c8-45dc-acab-947a4b28b7ba\",\"type\":\"SaveTool\"},{\"attributes\":{},\"id\":\"cbc5b5f7-958b-492e-8da0-1600ee8f4308\",\"type\":\"PanTool\"},{\"attributes\":{\"callback\":null,\"column_names\":[\"y1\",\"y0\",\"x1\"],\"data\":{\"x1\":[1824,1704,1705,1625,1622,1981,1941,2036,1999,1519,1070,346],\"y0\":[\"Enero\",\"Febrero\",\"Marzo\",\"Abril\",\"Mayo\",\"Junio\",\"Julio\",\"Agosto\",\"Septiembre\",\"Octubre\",\"Noviembre\",\"Diciembre\"],\"y1\":[\"Enero\",\"Febrero\",\"Marzo\",\"Abril\",\"Mayo\",\"Junio\",\"Julio\",\"Agosto\",\"Septiembre\",\"Octubre\",\"Noviembre\",\"Diciembre\"]}},\"id\":\"570da9f0-ddca-49cc-a410-dd212f1fc88b\",\"type\":\"ColumnDataSource\"},{\"attributes\":{\"callback\":null,\"end\":2500},\"id\":\"ed36659a-879d-42b7-8566-efc6e22c4a65\",\"type\":\"Range1d\"},{\"attributes\":{\"active_drag\":\"auto\",\"active_inspect\":\"auto\",\"active_scroll\":\"auto\",\"active_tap\":\"auto\",\"tools\":[{\"id\":\"cbc5b5f7-958b-492e-8da0-1600ee8f4308\",\"type\":\"PanTool\"},{\"id\":\"9e075287-67c4-4e90-b264-e17752601253\",\"type\":\"WheelZoomTool\"},{\"id\":\"8b725abb-e297-4704-ab9e-f6777c5ed9be\",\"type\":\"BoxZoomTool\"},{\"id\":\"d669b1ff-54c8-45dc-acab-947a4b28b7ba\",\"type\":\"SaveTool\"},{\"id\":\"c10831a4-499f-4be5-ade6-8ec1f7778d95\",\"type\":\"ResetTool\"},{\"id\":\"e31924d0-f0da-497a-ab09-46e8983a85c0\",\"type\":\"HelpTool\"}]},\"id\":\"0a9fe62d-e877-47c8-ba77-6d0dd311d4f7\",\"type\":\"Toolbar\"},{\"attributes\":{},\"id\":\"7ae5c69f-9853-4628-878a-14a30f15dd0d\",\"type\":\"CategoricalScale\"},{\"attributes\":{},\"id\":\"c10831a4-499f-4be5-ade6-8ec1f7778d95\",\"type\":\"ResetTool\"},{\"attributes\":{\"fill_alpha\":{\"value\":0.1},\"fill_color\":{\"value\":\"#1f77b4\"},\"line_alpha\":{\"value\":0.1},\"line_color\":{\"value\":\"#1f77b4\"},\"line_width\":{\"value\":4},\"size\":{\"units\":\"screen\",\"value\":20},\"x\":{\"field\":\"x\"},\"y\":{\"field\":\"y\"}},\"id\":\"e9a57653-4f01-46f6-84d0-c7dba3b710ba\",\"type\":\"Circle\"},{\"attributes\":{\"data_source\":{\"id\":\"58be955c-e3cd-43a4-8a3f-62b1c8bec53a\",\"type\":\"ColumnDataSource\"},\"glyph\":{\"id\":\"a7a6ea69-ba2c-461b-9f6b-1d35ea294699\",\"type\":\"Circle\"},\"hover_glyph\":null,\"muted_glyph\":null,\"nonselection_glyph\":{\"id\":\"e9a57653-4f01-46f6-84d0-c7dba3b710ba\",\"type\":\"Circle\"},\"selection_glyph\":null,\"view\":{\"id\":\"e6ce18d9-20ae-4770-a157-cab4bfe50c65\",\"type\":\"CDSView\"}},\"id\":\"6fc96a30-2d81-409c-b2ca-15b003daaeb0\",\"type\":\"GlyphRenderer\"},{\"attributes\":{\"line_width\":{\"value\":5},\"x0\":{\"value\":0},\"x1\":{\"field\":\"x1\"},\"y0\":{\"field\":\"y0\"},\"y1\":{\"field\":\"y1\"}},\"id\":\"b0d9fb87-5688-4b41-a28f-017522956d7c\",\"type\":\"Segment\"}],\"root_ids\":[\"b2e53d97-08d2-4cec-863a-1284a7b1ae93\"]},\"title\":\"Bokeh Application\",\"version\":\"0.12.10\"}};\n",
       "    var render_items = [{\"docid\":\"8e5ac063-88c3-4bf1-8537-92f6afd8c5e9\",\"elementid\":\"6435dbec-b16a-42de-a8ef-33f39ecbfcd3\",\"modelid\":\"b2e53d97-08d2-4cec-863a-1284a7b1ae93\"}];\n",
       "\n",
       "    root.Bokeh.embed.embed_items(docs_json, render_items);\n",
       "  }\n",
       "\n",
       "  if (root.Bokeh !== undefined) {\n",
       "    embed_document(root);\n",
       "  } else {\n",
       "    var attempts = 0;\n",
       "    var timer = setInterval(function(root) {\n",
       "      if (root.Bokeh !== undefined) {\n",
       "        embed_document(root);\n",
       "        clearInterval(timer);\n",
       "      }\n",
       "      attempts++;\n",
       "      if (attempts > 100) {\n",
       "        console.log(\"Bokeh: ERROR: Unable to embed document because BokehJS library is missing\")\n",
       "        clearInterval(timer);\n",
       "      }\n",
       "    }, 10, root)\n",
       "  }\n",
       "})(window);"
      ],
      "application/vnd.bokehjs_exec.v0+json": ""
     },
     "metadata": {
      "application/vnd.bokehjs_exec.v0+json": {
       "id": "b2e53d97-08d2-4cec-863a-1284a7b1ae93"
      }
     },
     "output_type": "display_data"
    }
   ],
   "source": [
    "grafica_linea=figure(title=\"Divorcios 2016\",#Se asigna el titulo a la grafica\n",
    "y_range=meses,x_range=[0,2500])#Se establece los valores que van en el eje X y Y y su rango\n",
    "grafica_linea.segment(0,meses,valores2016,meses,line_width=5,line_color=\"black\",)\n",
    "#se segmenta las lineas de la grafica en tanto en X y Y\n",
    "grafica_linea.circle(valores2016,meses,size=20,fill_color=\"red\",line_color=\"blue\",line_width=4,)\n",
    "#Se le da el diseño y los valores de como se mostra los circulos en la grafica\n",
    "show(grafica_linea)#se presenta la grafica"
   ]
  },
  {
   "cell_type": "markdown",
   "metadata": {},
   "source": [
    "###### Explicación De La Gráfica\n",
    "\n",
    "- Se puede visualizar que el año 2016 el mes donde se han efectuado mas divorcios es en el mes de Agosto a nivel nacional.\n",
    "- Tambien se puede observar que en Diciembre tiene el indice mas bajo de divorcios del año 2016.\n",
    "\n"
   ]
  },
  {
   "cell_type": "markdown",
   "metadata": {},
   "source": [
    "### Dirvorcios De Las Provincias Azuay, Guayas, Loja, Pichincha Años (2014 - 2015 - 2016)"
   ]
  },
  {
   "cell_type": "markdown",
   "metadata": {},
   "source": [
    "Representación de Divorcios en las provincias con mayor índice de población y nuestra provincia y comparar cual tiene un índicie más alto de divorcios en los años ( 2014 - 2015 - 2016)."
   ]
  },
  {
   "cell_type": "code",
   "execution_count": 13,
   "metadata": {},
   "outputs": [
    {
     "data": {
      "text/plain": [
       "﻿ofi_insc    5120\n",
       "prov_insc    5120\n",
       "cant_insc    5120\n",
       "parr_insc    5120\n",
       "anio_insc    5120\n",
       "dtype: int64"
      ]
     },
     "execution_count": 13,
     "metadata": {},
     "output_type": "execute_result"
    }
   ],
   "source": [
    "#Realizamos un filtro para selecionar solo el año 2016\n",
    "year=datos_csv[datos_csv['anio_div']==2016]\n",
    "#Filtramos el año 2016 con la Provincia solo Pichincha\n",
    "provincia=year[year['prov_insc']=='Pichincha']\n",
    "#Contamos el indicie de divorcios en el año 2016 de solo Pichincha y presetamos el indice obtenido\n",
    "provincia.count().head()\n",
    "#Realizamos este procedimiento con todas las provincias que vamos a representar y los años"
   ]
  },
  {
   "cell_type": "code",
   "execution_count": 14,
   "metadata": {},
   "outputs": [],
   "source": [
    "#Creamos un arreglo de las provincias que vamos a graficar\n",
    "provincias=['Azuay','Guayas','Loja','Pichincha']\n",
    "#A continuación creamos un arreglo de los años que vamos a representar\n",
    "years=['2014','2015','2016']\n",
    "#Asiganamos los valores de cada provincia en sus respectivos años\n",
    "valores={'provincias':provincias,\n",
    "         '2014':[49,132,11,166],\n",
    "         '2015':[326,1131,105,1237],\n",
    "         '2016':[1541,3966,485,5120]\n",
    "    \n",
    "}"
   ]
  },
  {
   "cell_type": "markdown",
   "metadata": {},
   "source": [
    "###### Gráfica De Las Provincias Azuay, Guayas, Loja, Pichincha Años (2014 - 2015 - 2016)"
   ]
  },
  {
   "cell_type": "code",
   "execution_count": 15,
   "metadata": {},
   "outputs": [
    {
     "data": {
      "text/html": [
       "\n",
       "<div class=\"bk-root\">\n",
       "    <div class=\"bk-plotdiv\" id=\"67f79663-c2bc-42dc-bedc-bc544b00f8fb\"></div>\n",
       "</div>"
      ]
     },
     "metadata": {},
     "output_type": "display_data"
    },
    {
     "data": {
      "application/javascript": [
       "(function(root) {\n",
       "  function embed_document(root) {\n",
       "    var docs_json = {\"9792f415-b7c8-48b4-b395-4834b73e73ed\":{\"roots\":{\"references\":[{\"attributes\":{},\"id\":\"e5e31d7e-497b-4996-ae18-666f3d449099\",\"type\":\"LinearScale\"},{\"attributes\":{\"range\":{\"id\":\"411f532f-4ec7-4b79-8292-0fa8545b8fd7\",\"type\":\"FactorRange\"},\"value\":0.25},\"id\":\"8862a4bc-5952-49b8-a586-5b01240b8f6a\",\"type\":\"Dodge\"},{\"attributes\":{},\"id\":\"b693ac68-b400-44b3-b855-143d96a32064\",\"type\":\"WheelZoomTool\"},{\"attributes\":{\"grid_line_color\":{\"value\":null},\"plot\":{\"id\":\"75dfaa46-7fed-4180-80a3-77822cdc474b\",\"subtype\":\"Figure\",\"type\":\"Plot\"},\"ticker\":{\"id\":\"5c365b77-986a-4242-9eb1-8c63ab9bece9\",\"type\":\"CategoricalTicker\"}},\"id\":\"e9e8016d-fcd0-47d3-9ac7-bd6008626291\",\"type\":\"Grid\"},{\"attributes\":{},\"id\":\"b8bceead-34eb-4820-9d67-2e997175ef94\",\"type\":\"ResetTool\"},{\"attributes\":{\"source\":{\"id\":\"6d280066-f9d0-4d34-9478-0031d7cb5a4d\",\"type\":\"ColumnDataSource\"}},\"id\":\"7d9e2537-01d7-43e2-b74d-18d2c8c4ed7f\",\"type\":\"CDSView\"},{\"attributes\":{},\"id\":\"1e9ffc4c-3c65-4fd6-b40e-b89207e44a03\",\"type\":\"CategoricalTickFormatter\"},{\"attributes\":{\"label\":{\"value\":\"2015\"},\"renderers\":[{\"id\":\"0766efa6-c2b5-4ce9-9f5a-d6a4e3b05fca\",\"type\":\"GlyphRenderer\"}]},\"id\":\"6b1d0bd7-3cdf-4f9e-806b-e3af8dfc810c\",\"type\":\"LegendItem\"},{\"attributes\":{\"data_source\":{\"id\":\"6d280066-f9d0-4d34-9478-0031d7cb5a4d\",\"type\":\"ColumnDataSource\"},\"glyph\":{\"id\":\"e46036d1-c7d7-45ce-97cb-654ec204681a\",\"type\":\"VBar\"},\"hover_glyph\":null,\"muted_glyph\":null,\"nonselection_glyph\":{\"id\":\"c1442e21-6bc5-42ac-9207-ce763d2f12d8\",\"type\":\"VBar\"},\"selection_glyph\":null,\"view\":{\"id\":\"7d9e2537-01d7-43e2-b74d-18d2c8c4ed7f\",\"type\":\"CDSView\"}},\"id\":\"0766efa6-c2b5-4ce9-9f5a-d6a4e3b05fca\",\"type\":\"GlyphRenderer\"},{\"attributes\":{\"label\":{\"value\":\"2016\"},\"renderers\":[{\"id\":\"46a2fd99-1c38-4737-afc6-b66e20023613\",\"type\":\"GlyphRenderer\"}]},\"id\":\"3cd85934-36ef-4add-b86b-c31293aa0cf5\",\"type\":\"LegendItem\"},{\"attributes\":{\"formatter\":{\"id\":\"1bce4e42-2da7-4b46-9030-711716b624e1\",\"type\":\"BasicTickFormatter\"},\"plot\":{\"id\":\"75dfaa46-7fed-4180-80a3-77822cdc474b\",\"subtype\":\"Figure\",\"type\":\"Plot\"},\"ticker\":{\"id\":\"f2dcdd7c-8baf-4322-902f-e96ccd208c8e\",\"type\":\"BasicTicker\"}},\"id\":\"d65eee89-89dc-4e82-b85f-c1a606c66a93\",\"type\":\"LinearAxis\"},{\"attributes\":{\"fill_color\":{\"value\":\"#02BEBB\"},\"line_color\":{\"value\":\"#02BEBB\"},\"top\":{\"field\":\"2015\"},\"width\":{\"value\":0.2},\"x\":{\"field\":\"provincias\",\"transform\":{\"id\":\"646ce1cb-0717-4bde-837b-710aa5949537\",\"type\":\"Dodge\"}}},\"id\":\"e46036d1-c7d7-45ce-97cb-654ec204681a\",\"type\":\"VBar\"},{\"attributes\":{\"data_source\":{\"id\":\"6d280066-f9d0-4d34-9478-0031d7cb5a4d\",\"type\":\"ColumnDataSource\"},\"glyph\":{\"id\":\"54aa3167-2e07-464b-8c5c-a61d361930c0\",\"type\":\"VBar\"},\"hover_glyph\":null,\"muted_glyph\":null,\"nonselection_glyph\":{\"id\":\"68b183c4-3bc0-4eb6-914a-f631cb5405af\",\"type\":\"VBar\"},\"selection_glyph\":null,\"view\":{\"id\":\"a0a98c99-2e69-448e-a47e-8e315c2b0bd4\",\"type\":\"CDSView\"}},\"id\":\"7459a1b2-ee3c-4a6d-aeac-ce6e705b8c95\",\"type\":\"GlyphRenderer\"},{\"attributes\":{\"fill_alpha\":{\"value\":0.1},\"fill_color\":{\"value\":\"#1f77b4\"},\"line_alpha\":{\"value\":0.1},\"line_color\":{\"value\":\"#1f77b4\"},\"top\":{\"field\":\"2015\"},\"width\":{\"value\":0.2},\"x\":{\"field\":\"provincias\",\"transform\":{\"id\":\"646ce1cb-0717-4bde-837b-710aa5949537\",\"type\":\"Dodge\"}}},\"id\":\"c1442e21-6bc5-42ac-9207-ce763d2f12d8\",\"type\":\"VBar\"},{\"attributes\":{\"source\":{\"id\":\"6d280066-f9d0-4d34-9478-0031d7cb5a4d\",\"type\":\"ColumnDataSource\"}},\"id\":\"c19894ac-1c39-4d4e-bffd-7547557b8b20\",\"type\":\"CDSView\"},{\"attributes\":{\"callback\":null,\"column_names\":[\"2015\",\"2014\",\"2016\",\"provincias\"],\"data\":{\"2014\":[49,132,11,166],\"2015\":[326,1131,105,1237],\"2016\":[1541,3966,485,5120],\"provincias\":[\"Azuay\",\"Guayas\",\"Loja\",\"Pichincha\"]}},\"id\":\"6d280066-f9d0-4d34-9478-0031d7cb5a4d\",\"type\":\"ColumnDataSource\"},{\"attributes\":{},\"id\":\"5c365b77-986a-4242-9eb1-8c63ab9bece9\",\"type\":\"CategoricalTicker\"},{\"attributes\":{\"range\":{\"id\":\"411f532f-4ec7-4b79-8292-0fa8545b8fd7\",\"type\":\"FactorRange\"}},\"id\":\"646ce1cb-0717-4bde-837b-710aa5949537\",\"type\":\"Dodge\"},{\"attributes\":{},\"id\":\"1bce4e42-2da7-4b46-9030-711716b624e1\",\"type\":\"BasicTickFormatter\"},{\"attributes\":{\"callback\":null,\"end\":6000},\"id\":\"bb07470a-c536-4e47-989c-99786508f374\",\"type\":\"Range1d\"},{\"attributes\":{\"data_source\":{\"id\":\"6d280066-f9d0-4d34-9478-0031d7cb5a4d\",\"type\":\"ColumnDataSource\"},\"glyph\":{\"id\":\"ab6cb86e-6a91-4b01-a9a3-d5579aacfe03\",\"type\":\"VBar\"},\"hover_glyph\":null,\"muted_glyph\":null,\"nonselection_glyph\":{\"id\":\"beb34d89-1e82-4641-ac7a-5b033cadff7f\",\"type\":\"VBar\"},\"selection_glyph\":null,\"view\":{\"id\":\"c19894ac-1c39-4d4e-bffd-7547557b8b20\",\"type\":\"CDSView\"}},\"id\":\"46a2fd99-1c38-4737-afc6-b66e20023613\",\"type\":\"GlyphRenderer\"},{\"attributes\":{},\"id\":\"f2bb8fd2-582f-4edd-8df2-8ba1ff0b62bb\",\"type\":\"CategoricalScale\"},{\"attributes\":{},\"id\":\"4e66b11a-7424-48ce-8ecd-f5dde09dfbf7\",\"type\":\"HelpTool\"},{\"attributes\":{\"items\":[{\"id\":\"8c651e70-d642-4775-80f4-e5e8a1152a5e\",\"type\":\"LegendItem\"},{\"id\":\"6b1d0bd7-3cdf-4f9e-806b-e3af8dfc810c\",\"type\":\"LegendItem\"},{\"id\":\"3cd85934-36ef-4add-b86b-c31293aa0cf5\",\"type\":\"LegendItem\"}],\"location\":\"top_left\",\"orientation\":\"horizontal\",\"plot\":{\"id\":\"75dfaa46-7fed-4180-80a3-77822cdc474b\",\"subtype\":\"Figure\",\"type\":\"Plot\"}},\"id\":\"4dc30d40-1cfd-42db-a1f6-e8ad87fe9cd2\",\"type\":\"Legend\"},{\"attributes\":{\"dimension\":1,\"plot\":{\"id\":\"75dfaa46-7fed-4180-80a3-77822cdc474b\",\"subtype\":\"Figure\",\"type\":\"Plot\"},\"ticker\":{\"id\":\"f2dcdd7c-8baf-4322-902f-e96ccd208c8e\",\"type\":\"BasicTicker\"}},\"id\":\"515a6da8-01d0-47b3-97d7-9062be803bdd\",\"type\":\"Grid\"},{\"attributes\":{},\"id\":\"f2dcdd7c-8baf-4322-902f-e96ccd208c8e\",\"type\":\"BasicTicker\"},{\"attributes\":{\"formatter\":{\"id\":\"1e9ffc4c-3c65-4fd6-b40e-b89207e44a03\",\"type\":\"CategoricalTickFormatter\"},\"plot\":{\"id\":\"75dfaa46-7fed-4180-80a3-77822cdc474b\",\"subtype\":\"Figure\",\"type\":\"Plot\"},\"ticker\":{\"id\":\"5c365b77-986a-4242-9eb1-8c63ab9bece9\",\"type\":\"CategoricalTicker\"}},\"id\":\"2b37085a-b6c3-4573-9c9c-ab0a68c4bdcb\",\"type\":\"CategoricalAxis\"},{\"attributes\":{\"plot\":null,\"text\":\"Divorcios En Las Provincias\"},\"id\":\"728edc7e-93c3-45eb-b912-90bba521af96\",\"type\":\"Title\"},{\"attributes\":{\"fill_alpha\":{\"value\":0.1},\"fill_color\":{\"value\":\"#1f77b4\"},\"line_alpha\":{\"value\":0.1},\"line_color\":{\"value\":\"#1f77b4\"},\"top\":{\"field\":\"2014\"},\"width\":{\"value\":0.2},\"x\":{\"field\":\"provincias\",\"transform\":{\"id\":\"dd0a730a-b615-477b-ad28-fabf8db92032\",\"type\":\"Dodge\"}}},\"id\":\"68b183c4-3bc0-4eb6-914a-f631cb5405af\",\"type\":\"VBar\"},{\"attributes\":{\"fill_color\":{\"value\":\"#E7D108\"},\"line_color\":{\"value\":\"#E7D108\"},\"top\":{\"field\":\"2014\"},\"width\":{\"value\":0.2},\"x\":{\"field\":\"provincias\",\"transform\":{\"id\":\"dd0a730a-b615-477b-ad28-fabf8db92032\",\"type\":\"Dodge\"}}},\"id\":\"54aa3167-2e07-464b-8c5c-a61d361930c0\",\"type\":\"VBar\"},{\"attributes\":{\"source\":{\"id\":\"6d280066-f9d0-4d34-9478-0031d7cb5a4d\",\"type\":\"ColumnDataSource\"}},\"id\":\"a0a98c99-2e69-448e-a47e-8e315c2b0bd4\",\"type\":\"CDSView\"},{\"attributes\":{\"bottom_units\":\"screen\",\"fill_alpha\":{\"value\":0.5},\"fill_color\":{\"value\":\"lightgrey\"},\"left_units\":\"screen\",\"level\":\"overlay\",\"line_alpha\":{\"value\":1.0},\"line_color\":{\"value\":\"black\"},\"line_dash\":[4,4],\"line_width\":{\"value\":2},\"plot\":null,\"render_mode\":\"css\",\"right_units\":\"screen\",\"top_units\":\"screen\"},\"id\":\"9d58cf3e-8b95-44f4-8072-a3ddc3799b7b\",\"type\":\"BoxAnnotation\"},{\"attributes\":{},\"id\":\"3de11b37-a47d-452f-baed-3836e786fcb2\",\"type\":\"SaveTool\"},{\"attributes\":{\"below\":[{\"id\":\"2b37085a-b6c3-4573-9c9c-ab0a68c4bdcb\",\"type\":\"CategoricalAxis\"}],\"left\":[{\"id\":\"d65eee89-89dc-4e82-b85f-c1a606c66a93\",\"type\":\"LinearAxis\"}],\"plot_height\":350,\"renderers\":[{\"id\":\"2b37085a-b6c3-4573-9c9c-ab0a68c4bdcb\",\"type\":\"CategoricalAxis\"},{\"id\":\"e9e8016d-fcd0-47d3-9ac7-bd6008626291\",\"type\":\"Grid\"},{\"id\":\"d65eee89-89dc-4e82-b85f-c1a606c66a93\",\"type\":\"LinearAxis\"},{\"id\":\"515a6da8-01d0-47b3-97d7-9062be803bdd\",\"type\":\"Grid\"},{\"id\":\"9d58cf3e-8b95-44f4-8072-a3ddc3799b7b\",\"type\":\"BoxAnnotation\"},{\"id\":\"4dc30d40-1cfd-42db-a1f6-e8ad87fe9cd2\",\"type\":\"Legend\"},{\"id\":\"7459a1b2-ee3c-4a6d-aeac-ce6e705b8c95\",\"type\":\"GlyphRenderer\"},{\"id\":\"0766efa6-c2b5-4ce9-9f5a-d6a4e3b05fca\",\"type\":\"GlyphRenderer\"},{\"id\":\"46a2fd99-1c38-4737-afc6-b66e20023613\",\"type\":\"GlyphRenderer\"}],\"title\":{\"id\":\"728edc7e-93c3-45eb-b912-90bba521af96\",\"type\":\"Title\"},\"toolbar\":{\"id\":\"7f6829d9-8453-4383-ae81-2216ca2a6856\",\"type\":\"Toolbar\"},\"x_range\":{\"id\":\"411f532f-4ec7-4b79-8292-0fa8545b8fd7\",\"type\":\"FactorRange\"},\"x_scale\":{\"id\":\"f2bb8fd2-582f-4edd-8df2-8ba1ff0b62bb\",\"type\":\"CategoricalScale\"},\"y_range\":{\"id\":\"bb07470a-c536-4e47-989c-99786508f374\",\"type\":\"Range1d\"},\"y_scale\":{\"id\":\"e5e31d7e-497b-4996-ae18-666f3d449099\",\"type\":\"LinearScale\"}},\"id\":\"75dfaa46-7fed-4180-80a3-77822cdc474b\",\"subtype\":\"Figure\",\"type\":\"Plot\"},{\"attributes\":{\"overlay\":{\"id\":\"9d58cf3e-8b95-44f4-8072-a3ddc3799b7b\",\"type\":\"BoxAnnotation\"}},\"id\":\"57801dcb-f292-410c-a28e-d566d79dc240\",\"type\":\"BoxZoomTool\"},{\"attributes\":{\"range\":{\"id\":\"411f532f-4ec7-4b79-8292-0fa8545b8fd7\",\"type\":\"FactorRange\"},\"value\":-0.25},\"id\":\"dd0a730a-b615-477b-ad28-fabf8db92032\",\"type\":\"Dodge\"},{\"attributes\":{\"callback\":null,\"factors\":[\"Azuay\",\"Guayas\",\"Loja\",\"Pichincha\"],\"range_padding\":0.1},\"id\":\"411f532f-4ec7-4b79-8292-0fa8545b8fd7\",\"type\":\"FactorRange\"},{\"attributes\":{\"fill_alpha\":{\"value\":0.1},\"fill_color\":{\"value\":\"#1f77b4\"},\"line_alpha\":{\"value\":0.1},\"line_color\":{\"value\":\"#1f77b4\"},\"top\":{\"field\":\"2016\"},\"width\":{\"value\":0.2},\"x\":{\"field\":\"provincias\",\"transform\":{\"id\":\"8862a4bc-5952-49b8-a586-5b01240b8f6a\",\"type\":\"Dodge\"}}},\"id\":\"beb34d89-1e82-4641-ac7a-5b033cadff7f\",\"type\":\"VBar\"},{\"attributes\":{\"fill_color\":{\"value\":\"#B20407\"},\"line_color\":{\"value\":\"#B20407\"},\"top\":{\"field\":\"2016\"},\"width\":{\"value\":0.2},\"x\":{\"field\":\"provincias\",\"transform\":{\"id\":\"8862a4bc-5952-49b8-a586-5b01240b8f6a\",\"type\":\"Dodge\"}}},\"id\":\"ab6cb86e-6a91-4b01-a9a3-d5579aacfe03\",\"type\":\"VBar\"},{\"attributes\":{\"label\":{\"value\":\"2014\"},\"renderers\":[{\"id\":\"7459a1b2-ee3c-4a6d-aeac-ce6e705b8c95\",\"type\":\"GlyphRenderer\"}]},\"id\":\"8c651e70-d642-4775-80f4-e5e8a1152a5e\",\"type\":\"LegendItem\"},{\"attributes\":{\"active_drag\":\"auto\",\"active_inspect\":\"auto\",\"active_scroll\":\"auto\",\"active_tap\":\"auto\",\"tools\":[{\"id\":\"cc92007d-9b49-45b3-a16e-194257768683\",\"type\":\"PanTool\"},{\"id\":\"b693ac68-b400-44b3-b855-143d96a32064\",\"type\":\"WheelZoomTool\"},{\"id\":\"57801dcb-f292-410c-a28e-d566d79dc240\",\"type\":\"BoxZoomTool\"},{\"id\":\"3de11b37-a47d-452f-baed-3836e786fcb2\",\"type\":\"SaveTool\"},{\"id\":\"b8bceead-34eb-4820-9d67-2e997175ef94\",\"type\":\"ResetTool\"},{\"id\":\"4e66b11a-7424-48ce-8ecd-f5dde09dfbf7\",\"type\":\"HelpTool\"}]},\"id\":\"7f6829d9-8453-4383-ae81-2216ca2a6856\",\"type\":\"Toolbar\"},{\"attributes\":{},\"id\":\"cc92007d-9b49-45b3-a16e-194257768683\",\"type\":\"PanTool\"}],\"root_ids\":[\"75dfaa46-7fed-4180-80a3-77822cdc474b\"]},\"title\":\"Bokeh Application\",\"version\":\"0.12.10\"}};\n",
       "    var render_items = [{\"docid\":\"9792f415-b7c8-48b4-b395-4834b73e73ed\",\"elementid\":\"67f79663-c2bc-42dc-bedc-bc544b00f8fb\",\"modelid\":\"75dfaa46-7fed-4180-80a3-77822cdc474b\"}];\n",
       "\n",
       "    root.Bokeh.embed.embed_items(docs_json, render_items);\n",
       "  }\n",
       "\n",
       "  if (root.Bokeh !== undefined) {\n",
       "    embed_document(root);\n",
       "  } else {\n",
       "    var attempts = 0;\n",
       "    var timer = setInterval(function(root) {\n",
       "      if (root.Bokeh !== undefined) {\n",
       "        embed_document(root);\n",
       "        clearInterval(timer);\n",
       "      }\n",
       "      attempts++;\n",
       "      if (attempts > 100) {\n",
       "        console.log(\"Bokeh: ERROR: Unable to embed document because BokehJS library is missing\")\n",
       "        clearInterval(timer);\n",
       "      }\n",
       "    }, 10, root)\n",
       "  }\n",
       "})(window);"
      ],
      "application/vnd.bokehjs_exec.v0+json": ""
     },
     "metadata": {
      "application/vnd.bokehjs_exec.v0+json": {
       "id": "75dfaa46-7fed-4180-80a3-77822cdc474b"
      }
     },
     "output_type": "display_data"
    }
   ],
   "source": [
    "\n",
    "fuente = ColumnDataSource(valores)\n",
    "\n",
    "#Asignacion de los valores a graficar y caracteriscas de la grafica\n",
    "grafica_barras= figure(x_range=provincias, y_range=(0, 6000), plot_height=350, title=\"Divorcios En Las Provincias\")\n",
    "\n",
    "grafica_barras.vbar(x=dodge('provincias', -0.25, range=grafica_barras.x_range), top='2014', width=0.2, source=fuente,\n",
    "       color=\"#E7D108\", legend=value(\"2014\"))\n",
    "\n",
    "grafica_barras.vbar(x=dodge('provincias',  0.0,  range=grafica_barras.x_range), top='2015', width=0.2, source=fuente,\n",
    "       color=\"#02BEBB\", legend=value(\"2015\"))\n",
    "\n",
    "grafica_barras.vbar(x=dodge('provincias',  0.25, range=grafica_barras.x_range), top='2016', width=0.2, source=fuente,\n",
    "       color=\"#B20407\", legend=value(\"2016\"))\n",
    "#Se establece el rango en x y su padding\n",
    "grafica_barras.x_range.range_padding = 0.1\n",
    "#Se le establece un colo al grid en este caso no le colocamos\n",
    "grafica_barras.xgrid.grid_line_color = None\n",
    "#Se establece donde ira el legend arriba_Izquierda\n",
    "grafica_barras.legend.location = \"top_left\"\n",
    "#La orientacion de la legend horizontal\n",
    "grafica_barras.legend.orientation = \"horizontal\"\n",
    "#Presenta la Grafica\n",
    "show(grafica_barras)\n",
    "\n"
   ]
  },
  {
   "cell_type": "markdown",
   "metadata": {},
   "source": [
    "###### Explicación De La Gráfica"
   ]
  },
  {
   "cell_type": "markdown",
   "metadata": {},
   "source": [
    "- Se puede visualizar primero que en la procincia de Pichincha hay un indice de divorcios más alto que en el resto de las provincias esto puede ser por que cuenta con un mayor número de población.\n",
    "- Hablando de la misma provincia del año 2014 al 2016 se puede observar que el nivel de divorcios a incrementado considerablemente.\n",
    "\n",
    "- En nuestra provincias Loja se puede observar que es la que menor indicie de divorcios tiene esto puede reflejarse asi por que de todas las anteriores provincias es la que menor población tiene.\n",
    "- Tambien podemos ver que desde el 2014 hasta el 2016 a incrementado el numero de divorcios.\n",
    "- Como conclucion final podemos observar que todas las provincias presentan un incremento importante con respecto del 2014 al 2016 en el indice de divorcios."
   ]
  },
  {
   "cell_type": "markdown",
   "metadata": {},
   "source": [
    "### Bibliografía\n",
    "\n",
    "* [Python Sitio Web Oficial](https://www.python.org/)\n",
    "* [Jupyter Notebook Sitio Web Oficial](http://jupyter.org/)\n",
    "* [Pandas Sitio Web Oficial](https://pandas.pydata.org/)\n",
    "* [Bokeh Sitio Web Oficial ](https://bokeh.pydata.org/en/latest/)\n",
    "* [Ejemplos De Bokeh](https://bokeh.pydata.org/en/latest/docs/gallery.html)"
   ]
  },
  {
   "cell_type": "markdown",
   "metadata": {},
   "source": [
    "### Anexos\n"
   ]
  },
  {
   "cell_type": "code",
   "execution_count": 21,
   "metadata": {},
   "outputs": [
    {
     "name": "stdout",
     "output_type": "stream",
     "text": [
      "/bin/sh: 1: Syntax error: \"(\" unexpected\r\n"
     ]
    }
   ],
   "source": [
    "* [Graficas Anexo]()"
   ]
  },
  {
   "cell_type": "code",
   "execution_count": null,
   "metadata": {},
   "outputs": [],
   "source": []
  },
  {
   "cell_type": "code",
   "execution_count": null,
   "metadata": {},
   "outputs": [],
   "source": []
  },
  {
   "cell_type": "code",
   "execution_count": null,
   "metadata": {},
   "outputs": [],
   "source": []
  },
  {
   "cell_type": "code",
   "execution_count": null,
   "metadata": {},
   "outputs": [],
   "source": []
  },
  {
   "cell_type": "code",
   "execution_count": null,
   "metadata": {},
   "outputs": [],
   "source": []
  },
  {
   "cell_type": "code",
   "execution_count": null,
   "metadata": {},
   "outputs": [],
   "source": []
  }
 ],
 "metadata": {
  "kernelspec": {
   "display_name": "Python 2",
   "language": "python",
   "name": "python2"
  },
  "language_info": {
   "codemirror_mode": {
    "name": "ipython",
    "version": 2
   },
   "file_extension": ".py",
   "mimetype": "text/x-python",
   "name": "python",
   "nbconvert_exporter": "python",
   "pygments_lexer": "ipython2",
   "version": "2.7.12"
  }
 },
 "nbformat": 4,
 "nbformat_minor": 2
}
